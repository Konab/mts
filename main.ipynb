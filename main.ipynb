{
 "cells": [
  {
   "cell_type": "code",
   "execution_count": 421,
   "metadata": {},
   "outputs": [],
   "source": [
    "import re\n",
    "import random\n",
    "import requests\n",
    "import time\n",
    "import json\n",
    "import tqdm\n",
    "\n",
    "from abc import ABC, abstractmethod\n",
    "\n",
    "from bs4 import BeautifulSoup\n",
    "\n",
    "import pandas as pd\n"
   ]
  },
  {
   "cell_type": "markdown",
   "metadata": {},
   "source": [
    "## Draft"
   ]
  },
  {
   "cell_type": "code",
   "execution_count": null,
   "metadata": {},
   "outputs": [],
   "source": [
    "url = 'https://httpbin.org/user-agent'\n",
    "user_agent = 'Mozilla/5.0 (Macintosh; Intel Mac OS X 10_9_3) AppleWebKit/537.36 (KHTML, like Gecko) Chrome/35.0.1916.47 Safari/537.36'\n",
    "headers = {'User-Agent': user_agent}\n",
    "response = requests.get(url,headers=headers)\n",
    "html = response.content\n",
    "print(response.content)"
   ]
  },
  {
   "cell_type": "code",
   "execution_count": 8,
   "metadata": {},
   "outputs": [],
   "source": [
    "user_agent = 'Mozilla/5.0 (Macintosh; Intel Mac OS X 10_9_3) AppleWebKit/537.36 (KHTML, like Gecko) Chrome/35.0.1916.47 Safari/537.36'\n",
    "headers = {'User-Agent': user_agent}\n"
   ]
  },
  {
   "cell_type": "code",
   "execution_count": 24,
   "metadata": {},
   "outputs": [],
   "source": [
    "fss_link = \"https://is.fssprus.ru/ajax_search?callback=jQuery34000259320136783735_1582702900157&system=ip&is[extended]=1&nocache=1&is[variant]=1&is[region_id][0]=77&is[last_name]=Набатчиков&is[first_name]=Константин&is[drtr_name]=&is[ip_number]=&is[patronymic]=Александрович&is[date]=17.01.1997&is[address]=&is[id_number]=&is[id_type][0]=&is[id_issuer]=&_=1582702900158\"\n",
    "sud_link = \"https://sudrf.ru/index.php?id=300&page=0&act=go_sp_search&searchtype=sp&court_subj=77&suds_subj=&num_d=&f_name=Набатчиков Константин Александрович&date_num_in=&date_num_out=&suds_vid=&spkatg=&suds_pip=&st_cat=&sud_pip=&\"\n"
   ]
  },
  {
   "cell_type": "code",
   "execution_count": 12,
   "metadata": {},
   "outputs": [
    {
     "name": "stderr",
     "output_type": "stream",
     "text": [
      "/Users/konstantinnabatcikov/Documents/AutoDrive/Notebooks/venv/lib/python3.8/site-packages/urllib3/connectionpool.py:997: InsecureRequestWarning: Unverified HTTPS request is being made. Adding certificate verification is strongly advised. See: https://urllib3.readthedocs.io/en/latest/advanced-usage.html#ssl-warnings\n",
      "  warnings.warn(\n"
     ]
    },
    {
     "name": "stdout",
     "output_type": "stream",
     "text": [
      "CPU times: user 11.8 ms, sys: 6.08 ms, total: 17.9 ms\n",
      "Wall time: 2.5 s\n"
     ]
    }
   ],
   "source": [
    "%%time\n",
    "a = requests.get(sud_link, verify=False, headers=headers)\n"
   ]
  },
  {
   "cell_type": "code",
   "execution_count": 22,
   "metadata": {},
   "outputs": [],
   "source": [
    "soup = BeautifulSoup(a.content)"
   ]
  },
  {
   "cell_type": "code",
   "execution_count": 23,
   "metadata": {},
   "outputs": [
    {
     "data": {
      "text/plain": [
       "<div align=\"center\" style=\"padding:40px;\"><b>По вашему запросу ничего не найдено.<br/>Попробуйте уточнить условия поиска.</b></div>"
      ]
     },
     "execution_count": 23,
     "metadata": {},
     "output_type": "execute_result"
    }
   ],
   "source": [
    "soup"
   ]
  },
  {
   "cell_type": "code",
   "execution_count": 38,
   "metadata": {},
   "outputs": [],
   "source": [
    "# SSL for testing\n",
    "import ssl\n",
    "ctx = ssl.create_default_context()\n",
    "ctx.check_hostname = False\n",
    "ctx.verify_mode = ssl.CERT_NONE"
   ]
  },
  {
   "cell_type": "code",
   "execution_count": 40,
   "metadata": {},
   "outputs": [
    {
     "name": "stdout",
     "output_type": "stream",
     "text": [
      "Help on class ABC in module abc:\n",
      "\n",
      "class ABC(builtins.object)\n",
      " |  Helper class that provides a standard way to create an ABC using\n",
      " |  inheritance.\n",
      " |  \n",
      " |  Data and other attributes defined here:\n",
      " |  \n",
      " |  __abstractmethods__ = frozenset()\n",
      "\n"
     ]
    }
   ],
   "source": [
    "help(ABC)"
   ]
  },
  {
   "cell_type": "markdown",
   "metadata": {},
   "source": [
    "## Decision"
   ]
  },
  {
   "cell_type": "code",
   "execution_count": 41,
   "metadata": {},
   "outputs": [],
   "source": [
    "class ExcelAbc(ABC):\n",
    "    \"\"\"ExcelAbc\n",
    "    Абстрактный класс для\n",
    "    записи и чтения данных из Excel\n",
    "\n",
    "    Arguments:\n",
    "        ABC {abc.ABCMeta} -- вспомогательный класс для создания интерфейсов\n",
    "    \"\"\"\n",
    "    def __init__(self):\n",
    "        \"\"\"Init\n",
    "        Инициализация класса\n",
    "        \"\"\"\n",
    "        super().__init__()\n",
    "\n",
    "    @abstractmethod\n",
    "    def read_file(self, file_path):\n",
    "        \"\"\"Read file\n",
    "        Считывает excel файл и приводит его в нормальный вид\n",
    "        {\n",
    "            'header': [..., {str}, ...],\n",
    "            'data': [\n",
    "                {\n",
    "                    hader_item: value_item,\n",
    "                    {str}: {str},\n",
    "                    ...\n",
    "                },\n",
    "                ...\n",
    "            ],\n",
    "            'count': {int}\n",
    "        }\n",
    "\n",
    "        Arguments:\n",
    "            file_path {str} -- путь до файла\n",
    "\n",
    "        Returns:\n",
    "            {dict} -- данные приведенные в нормалный вид\n",
    "        \"\"\"\n",
    "        return {}\n",
    "\n",
    "    @abstractmethod\n",
    "    def write_file(self, file_path, data):\n",
    "        \"\"\"Write file\n",
    "        Принимает данные в нормальном виде\n",
    "        Записывает их в файл\n",
    "\n",
    "        Arguments:\n",
    "            file_path {str} -- путь до файла\n",
    "            data {str} -- данные в нормальном виде\n",
    "\n",
    "        Returns:\n",
    "            {bool} -- статус\n",
    "        \"\"\"\n",
    "        return False"
   ]
  },
  {
   "cell_type": "code",
   "execution_count": 215,
   "metadata": {},
   "outputs": [],
   "source": [
    "# Абстрактный класс для Парсинга\n",
    "class ParserAbc(ABC):\n",
    "    \"\"\"ParserAbc\n",
    "    Абстрактный класс для парсинга данных\n",
    "\n",
    "    Arguments:\n",
    "        ABC {[type]} -- [description]\n",
    "    \"\"\"\n",
    "\n",
    "    def __init__(self, link, params):\n",
    "        # Open user-agent list\n",
    "        with open('user_agents.json', 'r', encoding='utf8') as f:\n",
    "            self.user_agents = json.load(f)\n",
    "        # Add arguments\n",
    "        self.link = link\n",
    "        self.set_params(params)\n",
    "        super().__init__()\n",
    "\n",
    "    def set_params(self, params):\n",
    "        self._params = params\n",
    "\n",
    "    def get_random_user_agent(self):\n",
    "        \"\"\"Get random_user_agent\n",
    "        Получить случайный user-agent\n",
    "\n",
    "        Returns:\n",
    "            {str} -- user-agent\n",
    "        \"\"\"\n",
    "        return random.choice(self.user_agents)\n",
    "\n",
    "    def make_query(self, *, params={}, verify=False):\n",
    "        \"\"\"Make query\n",
    "        Делаем запрос к сайту\n",
    "\n",
    "        Keyword Arguments:\n",
    "            params {dict} -- get параметры (default: {{}})\n",
    "            verify {bool} -- аргумент в requests (default: {False})\n",
    "\n",
    "        Returns:\n",
    "            {requests.models.Response} -- объект с результатом запроса\n",
    "        \"\"\"\n",
    "        return requests.get(\n",
    "            self.link,\n",
    "            headers={'User-Agent': self.get_random_user_agent()},\n",
    "            params=params,\n",
    "            verify=verify\n",
    "        )\n",
    "\n",
    "    def verify_response(self, res):\n",
    "        \"\"\"Verify response\n",
    "        Проверяет резальтат на валидность\n",
    "\n",
    "        Arguments:\n",
    "            {requests.models.Response} -- объект с результатом запроса\n",
    "\n",
    "        Returns:\n",
    "            {bool} -- Статус\n",
    "        \"\"\"\n",
    "        return True if res.status_code == 200 else False\n",
    "\n",
    "    @abstractmethod\n",
    "    def normalize_html(self, html_data):\n",
    "        \"\"\"Normalize html\n",
    "        На вход принимает html, арсит с него искомые данные\n",
    "        и приводит их к нормальному виду\n",
    "        {\n",
    "            'header': [..., {str}, ...],\n",
    "            'data': [\n",
    "                {\n",
    "                    hader_item: value_item,\n",
    "                    {str}: {str},\n",
    "                    ...\n",
    "                },\n",
    "                ...\n",
    "            ],\n",
    "            'count': {int}\n",
    "        }\n",
    "\n",
    "        Arguments:\n",
    "            html_data {requests.models.Response} -- Res\n",
    "\n",
    "        Returns:\n",
    "            {dict} -- словарь с данными\n",
    "        \"\"\"\n",
    "        return {}\n",
    "\n",
    "    def pipeline_one(self, params):\n",
    "        # Конвейер\n",
    "        if self.verify_response(curr:=self.make_query(params=params)):  # noqa\n",
    "            return self.normalize_html(curr)\n",
    "        return None"
   ]
  },
  {
   "cell_type": "code",
   "execution_count": 84,
   "metadata": {},
   "outputs": [
    {
     "data": {
      "text/plain": [
       "'https://is.fssprus.ru/ajax_search?callback=jQuery34000259320136783735_1582702900157&system=ip&is[extended]=1&nocache=1&is[variant]=1&is[region_id][0]=77&is[last_name]=Набатчиков&is[first_name]=Константин&is[drtr_name]=&is[ip_number]=&is[patronymic]=Александрович&is[date]=17.01.1997&is[address]=&is[id_number]=&is[id_type][0]=&is[id_issuer]=&_=1582702900158'"
      ]
     },
     "execution_count": 84,
     "metadata": {},
     "output_type": "execute_result"
    }
   ],
   "source": [
    "fss_link"
   ]
  },
  {
   "cell_type": "code",
   "execution_count": 85,
   "metadata": {},
   "outputs": [
    {
     "data": {
      "text/plain": [
       "'https://is.fssprus.ru/ajax_search?callback=jQuery34009249386478271078_1582708986749&system=ip&is%5Bextended%5D=1&nocache=1&is%5Bvariant%5D=1&is%5Bregion_id%5D%5B0%5D=77&is%5Blast_name%5D=%D0%9D%D0%B0%D0%B1%D0%B0%D1%82%D1%87%D0%B8%D0%BA%D0%BE%D0%B2&is%5Bfirst_name%5D=%D0%9A%D0%BE%D0%BD%D1%81%D1%82%D0%B0%D0%BD%D1%82%D0%B8%D0%BD&is%5Bdrtr_name%5D=&is%5Bip_number%5D=&is%5Bpatronymic%5D=%D0%90%D0%BB%D0%B5%D0%BA%D1%81%D0%B0%D0%BD%D0%B4%D1%80%D0%BE%D0%B2%D0%B8%D1%87&is%5Bdate%5D=17.01.1997&is%5Baddress%5D=&is%5Bid_number%5D=&is%5Bid_type%5D%5B0%5D=&is%5Bid_issuer%5D=&_=1582708986750'"
      ]
     },
     "execution_count": 85,
     "metadata": {},
     "output_type": "execute_result"
    }
   ],
   "source": [
    "\"https://is.fssprus.ru/ajax_search?callback=jQuery34009249386478271078_1582708986749&system=ip&is%5Bextended%5D=1&nocache=1&is%5Bvariant%5D=1&is%5Bregion_id%5D%5B0%5D=77&is%5Blast_name%5D=%D0%9D%D0%B0%D0%B1%D0%B0%D1%82%D1%87%D0%B8%D0%BA%D0%BE%D0%B2&is%5Bfirst_name%5D=%D0%9A%D0%BE%D0%BD%D1%81%D1%82%D0%B0%D0%BD%D1%82%D0%B8%D0%BD&is%5Bdrtr_name%5D=&is%5Bip_number%5D=&is%5Bpatronymic%5D=%D0%90%D0%BB%D0%B5%D0%BA%D1%81%D0%B0%D0%BD%D0%B4%D1%80%D0%BE%D0%B2%D0%B8%D1%87&is%5Bdate%5D=17.01.1997&is%5Baddress%5D=&is%5Bid_number%5D=&is%5Bid_type%5D%5B0%5D=&is%5Bid_issuer%5D=&_=1582708986750\"\n"
   ]
  },
  {
   "cell_type": "code",
   "execution_count": 95,
   "metadata": {},
   "outputs": [
    {
     "data": {
      "text/plain": [
       "['callback=jQuery34000259320136783735_1582702900157',\n",
       " 'system=ip',\n",
       " 'is[extended]=1',\n",
       " 'nocache=1',\n",
       " 'is[variant]=1',\n",
       " 'is[region_id][0]=77',\n",
       " 'is[last_name]=Набатчиков',\n",
       " 'is[first_name]=Константин',\n",
       " 'is[drtr_name]=',\n",
       " 'is[ip_number]=',\n",
       " 'is[patronymic]=Александрович',\n",
       " 'is[date]=17.01.1997',\n",
       " 'is[address]=',\n",
       " 'is[id_number]=',\n",
       " 'is[id_type][0]=',\n",
       " 'is[id_issuer]=',\n",
       " '_=1582702900158']"
      ]
     },
     "execution_count": 95,
     "metadata": {},
     "output_type": "execute_result"
    }
   ],
   "source": [
    "fss_link.split('?')[1].split('&')"
   ]
  },
  {
   "cell_type": "code",
   "execution_count": 460,
   "metadata": {},
   "outputs": [],
   "source": [
    "link = \"https://is.fssprus.ru/ajax_search\""
   ]
  },
  {
   "cell_type": "code",
   "execution_count": 461,
   "metadata": {},
   "outputs": [],
   "source": [
    "a = requests.get(\n",
    "    link,\n",
    "    headers={'User-Agent': random.choice(user_agents)},\n",
    "    params={\n",
    "        'callback': 'jQuery34009249386478271078_1582708986749',\n",
    "        'is[region_id][0]': '77',\n",
    "        'is[last_name]': 'Иванов',\n",
    "        'is[first_name]': 'Иван',\n",
    "        'is[patronymic]': 'Иванович',\n",
    "        'is[date]': '18.03.1985'\n",
    "    }\n",
    ")\n"
   ]
  },
  {
   "cell_type": "code",
   "execution_count": 462,
   "metadata": {},
   "outputs": [
    {
     "name": "stdout",
     "output_type": "stream",
     "text": [
      "https://is.fssprus.ru/ajax_search?callback=jQuery34009249386478271078_1582708986749&is%5Bregion_id%5D%5B0%5D=77&is%5Blast_name%5D=%D0%98%D0%B2%D0%B0%D0%BD%D0%BE%D0%B2&is%5Bfirst_name%5D=%D0%98%D0%B2%D0%B0%D0%BD&is%5Bpatronymic%5D=%D0%98%D0%B2%D0%B0%D0%BD%D0%BE%D0%B2%D0%B8%D1%87&is%5Bdate%5D=18.03.1985\n"
     ]
    },
    {
     "data": {
      "text/plain": [
       "/**/ typeof jQuery34009249386478271078_1582708986749 === 'function' &amp;&amp; jQuery34009249386478271078_1582708986749({\"data\":\"\\r\\n\\r\\n<div 0;=\"\" 0;top:=\"\" block;=\"\" data-ajax='\\\"false\\\"' id='\\\"captcha-popup\\\"' left:=\"\" position:relative;\\\"=\"\" style='\\\"display:'>\\r\\n    <div class='\\\"head\\\"'></div>\\r\\n    <form action='\\\"\\\"' class='\\\"body' content\\\"=\"\" data-ajax='\\\"false\\\"' id='\\\"ncapcha\\\"' method='\\\"get\\\"' url='\\\"/ajax_search?&amp;is%5Bregion_id%5D%5B0%5D=77&amp;is%5Blast_name%5D=%D0%98%D0%B2%D0%B0%D0%BD%D0%BE%D0%B2&amp;is%5Bfirst_name%5D=%D0%98%D0%B2%D0%B0%D0%BD&amp;is%5Bpatronymic%5D=%D0%98%D0%B2%D0%B0%D0%BD%D0%BE%D0%B2%D0%B8%D1%87&amp;is%5Bdate%5D=18.03.1985\\\"'>\\r\\n        <h2>Введите код с картинки:</h2>\\r\\n        <div class='\\\"context\\\"'>\\r\\n        \\r\\n            <img alt='\\\"загрузка...\\\"' id='\\\"capchaVisual\\\"' src='\\\"data:image/jpeg;base64,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\\\"'/><a href='\\\"#\\\"' id='\\\"ncapchaAudio\\\"'></a>\\r\\n        \\r\\n        </div>\\r\\n        <div class='\\\"input\\\"'>\\r\\n            \\r\\n            <input class='\\\"input-text\\\"' id='\\\"captcha-popup-code\\\"' name='\\\"code\\\"' type='\\\"text\\\"'/>\\r\\n            <input class='\\\"input-submit-capcha\\\"' id='\\\"ncapcha-submit\\\"' type='\\\"submit\\\"' value='\\\"Отправить\\\"'/>\\r\\n        </div>\\r\\n    </form>\\r\\n    <div class='\\\"foot\\\"'></div>\\r\\n</div>\",\"err\":null,\"e\":\"\"});"
      ]
     },
     "execution_count": 462,
     "metadata": {},
     "output_type": "execute_result"
    }
   ],
   "source": [
    "print(a.url)\n",
    "BeautifulSoup(a.content)\n"
   ]
  },
  {
   "cell_type": "code",
   "execution_count": 139,
   "metadata": {},
   "outputs": [],
   "source": [
    "params={\n",
    "    'callback': 'jQuery34009249386478271078_1582708986749',\n",
    "    'is[region_id][0]': '77',\n",
    "    'is[last_name]': 'Иванов',\n",
    "    'is[first_name]': 'Иван',\n",
    "    'is[patronymic]': 'Иванович',\n",
    "    'is[date]': '18.03.1985'\n",
    "}"
   ]
  },
  {
   "cell_type": "code",
   "execution_count": 182,
   "metadata": {},
   "outputs": [],
   "source": [
    "class Fss(ParserAbc):\n",
    "    def normalize_html(self, html_data):\n",
    "        print(html_data)\n",
    "        return {}"
   ]
  },
  {
   "cell_type": "code",
   "execution_count": 183,
   "metadata": {},
   "outputs": [],
   "source": [
    "fss = Fss(link)\n"
   ]
  },
  {
   "cell_type": "code",
   "execution_count": 184,
   "metadata": {},
   "outputs": [
    {
     "name": "stdout",
     "output_type": "stream",
     "text": [
      "<Response [200]>\n"
     ]
    },
    {
     "name": "stderr",
     "output_type": "stream",
     "text": [
      "/Users/konstantinnabatcikov/Documents/AutoDrive/Notebooks/venv/lib/python3.8/site-packages/urllib3/connectionpool.py:997: InsecureRequestWarning: Unverified HTTPS request is being made. Adding certificate verification is strongly advised. See: https://urllib3.readthedocs.io/en/latest/advanced-usage.html#ssl-warnings\n",
      "  warnings.warn(\n"
     ]
    },
    {
     "data": {
      "text/plain": [
       "{}"
      ]
     },
     "execution_count": 184,
     "metadata": {},
     "output_type": "execute_result"
    }
   ],
   "source": [
    "fss.pipeline_one(params)"
   ]
  },
  {
   "cell_type": "code",
   "execution_count": 151,
   "metadata": {},
   "outputs": [],
   "source": [
    "sud_link = \"https://sudrf.ru/index.php?id=300&page=0&act=go_sp_search&searchtype=sp&court_subj=77&suds_subj=&num_d=&f_name=Набатчиков Константин Александрович&date_num_in=&date_num_out=&suds_vid=&spkatg=&suds_pip=&st_cat=&sud_pip=&\"\n"
   ]
  },
  {
   "cell_type": "code",
   "execution_count": 154,
   "metadata": {},
   "outputs": [
    {
     "data": {
      "text/plain": [
       "['id=300',\n",
       " 'page=0',\n",
       " 'act=go_sp_search',\n",
       " 'searchtype=sp',\n",
       " 'court_subj=77',\n",
       " 'suds_subj=',\n",
       " 'num_d=',\n",
       " 'f_name=Набатчиков Константин Александрович',\n",
       " 'date_num_in=',\n",
       " 'date_num_out=',\n",
       " 'suds_vid=',\n",
       " 'spkatg=',\n",
       " 'suds_pip=',\n",
       " 'st_cat=',\n",
       " 'sud_pip=',\n",
       " '']"
      ]
     },
     "execution_count": 154,
     "metadata": {},
     "output_type": "execute_result"
    }
   ],
   "source": [
    "sud_link.split('?')[1].split('&')"
   ]
  },
  {
   "cell_type": "code",
   "execution_count": 261,
   "metadata": {},
   "outputs": [
    {
     "name": "stderr",
     "output_type": "stream",
     "text": [
      "/Users/konstantinnabatcikov/Documents/AutoDrive/Notebooks/venv/lib/python3.8/site-packages/urllib3/connectionpool.py:997: InsecureRequestWarning: Unverified HTTPS request is being made. Adding certificate verification is strongly advised. See: https://urllib3.readthedocs.io/en/latest/advanced-usage.html#ssl-warnings\n",
      "  warnings.warn(\n"
     ]
    }
   ],
   "source": [
    "a = requests.get(\n",
    "    'https://sudrf.ru/index.php',\n",
    "    headers={'User-Agent': random.choice(user_agents)},\n",
    "    params={\n",
    "        'id': '300',\n",
    "        'page': '0',\n",
    "        'act': 'go_sp_search',\n",
    "        'searchtype': 'sp',\n",
    "        'court_subj': '78',\n",
    "        'f_name': 'Соколов Олег'\n",
    "    },\n",
    "    verify=False\n",
    ")\n",
    "\n"
   ]
  },
  {
   "cell_type": "code",
   "execution_count": 262,
   "metadata": {},
   "outputs": [
    {
     "name": "stdout",
     "output_type": "stream",
     "text": [
      "https://sudrf.ru/index.php?id=300&page=0&act=go_sp_search&searchtype=sp&court_subj=78&f_name=%D0%A1%D0%BE%D0%BA%D0%BE%D0%BB%D0%BE%D0%B2+%D0%9E%D0%BB%D0%B5%D0%B3\n"
     ]
    },
    {
     "data": {
      "text/plain": [
       "<div class=\"style3\" style=\"padding-left:1%; \">\n",
       "<div align=\"center\" class=\"style4\">\n",
       "<div id=\"line\"></div>\n",
       "<font size=\"5\">Результаты поиска</font>\n",
       "<div id=\"line\"></div>\n",
       "</div>\n",
       "<div align=\"left\" id=\"num1\" style=\"padding-top: 0.2em; width:30%; font-size: 11px; color: #555; float: left;\">\n",
       "\tСтраницы : <b>1</b> | <a href=\"#\" onclick=\"pages(2); return false;\">2</a> | <a href=\"#\" onclick=\"pages(3); return false;\">3</a> <a href=\"#\" onclick=\"pages(2); return false;\" title=\"Следующая страница\">&gt;</a>\n",
       "<a href=\"#\" onclick=\"pages(3); return false;\" title=\"На последнюю страницу списка\">&gt;&gt;</a> </div>\n",
       "<div align=\"right\" style=\"width:70%; font-size: 11px; color: #555; float: left;\">\n",
       "\t\t\tВсего по запросу найдено - 65. На странице записи с 1 по 25\t\t</div>\n",
       "<br/>\n",
       "<div id=\"num2\">\n",
       "<table border=\"0\" cellpadding=\"3\" cellspacing=\"0\" id=\"tablcont\" width=\"100%\">\n",
       "<tr align=\"center\" id=\"head_num\">\n",
       "<td>Суд</td>\n",
       "<td>Номер дела</td>\n",
       "<td>Дата поступления</td>\n",
       "<td>Информация по делу</td>\n",
       "<td>Судья</td>\n",
       "<td>Результат слушания</td>\n",
       "<td>Судебные<br/>акты</td>\n",
       "</tr>\n",
       "<tr valign=\"top\">\n",
       "<td>Выборгский районный суд</td>\n",
       "<td align=\"center\" nowrap=\"\" title=\"Для получения справки по делу, нажмите на номер дела\"><a href=\"http://vbr.spb.sudrf.ru/modules.php?name=sud_delo&amp;name_op=case&amp;case_id=352991639&amp;case_uid=5f14beb7-4d97-4217-a011-c35a4da57731&amp;result=1&amp;new=&amp;delo_id=1540006&amp;srv_num=1\" target=\"_blank\">1-132/2011 (1-1595/2010;)</a> </td>\n",
       "<td align=\"center\">30.09.2010</td>\n",
       "<td> Котовский Денис Валерьевич - ст.126 ч.2 п.п.а,в,з; ст.163 ч.2 п.п.а,в УК РФ;<br/>Соколов Олег Дмитриевич - ст.33 ч.5-ст.126 ч.2 п.п.а,г,з; ст.33 ч.5-ст.163 ч.2 п.п.а,в УК РФ;<br/>Федоров Максим Сергеевич - ст.126 ч.2 п.п.а,в,д,з; ст.163 ч.2 п.п.а,в УК РФ</td>\n",
       "<td>  Яковлев Сергей Юрьевич</td>\n",
       "<td> Вынесен ПРИГОВОР</td>\n",
       "<td>\n",
       "\t\t\t\t\t     \t\t\t\t</td>\n",
       "</tr>\n",
       "<tr valign=\"top\">\n",
       "<td>Выборгский районный суд</td>\n",
       "<td align=\"center\" nowrap=\"\" title=\"Для получения справки по делу, нажмите на номер дела\"><a href=\"http://vbr.spb.sudrf.ru/modules.php?name=sud_delo&amp;name_op=case&amp;case_id=353072452&amp;case_uid=5bc39031-ec1f-41e2-a644-80faed33205a&amp;result=1&amp;new=&amp;delo_id=1540006&amp;srv_num=1\" target=\"_blank\">1-159/2016</a> </td>\n",
       "<td align=\"center\">11.01.2016</td>\n",
       "<td> Соколов Олег Владиславович - ст.228 ч.2 УК РФ</td>\n",
       "<td> Фатеенкова Валерия Алексеевна</td>\n",
       "<td> Вынесен ПРИГОВОР</td>\n",
       "<td> <a href=\"http://vbr.spb.sudrf.ru/modules.php?name=sud_delo&amp;name_op=doc&amp;srv_num=1&amp;number=253866752&amp;delo_id=1540006&amp;new=&amp;text_number=1\" target=\"_blank\" title=\"Приговор\">Текст документа</a>    \t\t\t\t</td>\n",
       "</tr>\n",
       "<tr valign=\"top\">\n",
       "<td>Выборгский районный суд</td>\n",
       "<td align=\"center\" nowrap=\"\" title=\"Для получения справки по делу, нажмите на номер дела\"><a href=\"http://vbr.spb.sudrf.ru/modules.php?name=sud_delo&amp;name_op=case&amp;case_id=353112464&amp;case_uid=919a9f0f-57ae-470a-9175-11c7489d5d20&amp;result=1&amp;new=&amp;delo_id=1540006&amp;srv_num=1\" target=\"_blank\">1-483/2019</a> </td>\n",
       "<td align=\"center\">06.03.2019</td>\n",
       "<td> Соколов Олег Алексеевич - ст.238 ч.1 УК РФ</td>\n",
       "<td> Никитина Елена Евгеньевна</td>\n",
       "<td> Вынесен ПРИГОВОР</td>\n",
       "<td> <a href=\"http://vbr.spb.sudrf.ru/modules.php?name=sud_delo&amp;name_op=doc&amp;srv_num=1&amp;number=305709717&amp;delo_id=1540006&amp;new=&amp;text_number=1\" target=\"_blank\" title=\"Приговор\">Текст документа</a>    \t\t\t\t</td>\n",
       "</tr>\n",
       "<tr valign=\"top\">\n",
       "<td>Красносельский районный суд</td>\n",
       "<td align=\"center\" nowrap=\"\" title=\"Для получения справки по делу, нажмите на номер дела\"><a href=\"http://ksl.spb.sudrf.ru/modules.php?name=sud_delo&amp;name_op=case&amp;case_id=359288295&amp;case_uid=2b3d08d7-1568-44db-9089-cc1fd3d35256&amp;result=1&amp;new=&amp;delo_id=1540006&amp;srv_num=1\" target=\"_blank\">1-164/2017</a> </td>\n",
       "<td align=\"center\">13.01.2017</td>\n",
       "<td> Соколов Олег Авинерович - ст.264 ч.1 УК РФ</td>\n",
       "<td> Стасюкова Светлана Геннадьевна</td>\n",
       "<td> Вынесен ПРИГОВОР</td>\n",
       "<td>\n",
       "\t\t\t\t\t     \t\t\t\t</td>\n",
       "</tr>\n",
       "<tr valign=\"top\">\n",
       "<td>Невский районный суд</td>\n",
       "<td align=\"center\" nowrap=\"\" title=\"Для получения справки по делу, нажмите на номер дела\"><a href=\"http://nvs.spb.sudrf.ru/modules.php?name=sud_delo&amp;name_op=case&amp;case_id=364699269&amp;case_uid=e91e8407-f6a9-41bc-be78-f621732a84c7&amp;result=1&amp;new=&amp;delo_id=1540006&amp;srv_num=1\" target=\"_blank\">1-545/2012</a> </td>\n",
       "<td align=\"center\">25.04.2012</td>\n",
       "<td> Соколов Олег Николаевич - ст.158 ч.2 п.в УК РФ</td>\n",
       "<td> Михайлова Татьяна Владимировна</td>\n",
       "<td> Вынесен ПРИГОВОР</td>\n",
       "<td> <a href=\"http://nvs.spb.sudrf.ru/modules.php?name=sud_delo&amp;name_op=doc&amp;srv_num=1&amp;number=256063926&amp;delo_id=1540006&amp;new=&amp;text_number=1\" target=\"_blank\" title=\"Приговор\">Текст документа</a>    \t\t\t\t</td>\n",
       "</tr>\n",
       "<tr valign=\"top\">\n",
       "<td>Невский районный суд</td>\n",
       "<td align=\"center\" nowrap=\"\" title=\"Для получения справки по делу, нажмите на номер дела\"><a href=\"http://nvs.spb.sudrf.ru/modules.php?name=sud_delo&amp;name_op=case&amp;case_id=364799341&amp;case_uid=b7631c42-2f1f-4046-94b2-6d3cb6474c9e&amp;result=1&amp;new=&amp;delo_id=1540006&amp;srv_num=1\" target=\"_blank\">1-832/2017</a> </td>\n",
       "<td align=\"center\">02.06.2017</td>\n",
       "<td> Соколов Олег Николаевич - ст.222 ч.1 УК РФ</td>\n",
       "<td> Баширов Газиз Наильевич</td>\n",
       "<td> Вынесен ПРИГОВОР</td>\n",
       "<td> <a href=\"http://nvs.spb.sudrf.ru/modules.php?name=sud_delo&amp;name_op=doc&amp;srv_num=1&amp;number=256089553&amp;delo_id=1540006&amp;new=&amp;text_number=1\" target=\"_blank\" title=\"Приговор\">Текст документа</a>    \t\t\t\t</td>\n",
       "</tr>\n",
       "<tr valign=\"top\">\n",
       "<td>Невский районный суд</td>\n",
       "<td align=\"center\" nowrap=\"\" title=\"Для получения справки по делу, нажмите на номер дела\"><a href=\"http://nvs.spb.sudrf.ru/modules.php?name=sud_delo&amp;name_op=case&amp;case_id=364869214&amp;case_uid=cf9481b5-dbb5-4487-9d6f-f768aa5d878d&amp;result=1&amp;new=&amp;delo_id=1500001&amp;srv_num=1\" target=\"_blank\">6-537/2014</a> </td>\n",
       "<td align=\"center\">02.04.2014</td>\n",
       "<td> ПРАВОНАРУШЕНИЕ: Соколов Олег Николаевич - КоАП: ст. 20.1 ч.1</td>\n",
       "<td> Петий Светлана Сергеевна</td>\n",
       "<td> Вынесено постановление о назначении административного наказания</td>\n",
       "<td>\n",
       "\t\t\t\t\t     \t\t\t\t</td>\n",
       "</tr>\n",
       "<tr valign=\"top\">\n",
       "<td>Красногвардейский районный суд</td>\n",
       "<td align=\"center\" nowrap=\"\" title=\"Для получения справки по делу, нажмите на номер дела\"><a href=\"http://kgv.spb.sudrf.ru/modules.php?name=sud_delo&amp;name_op=case&amp;case_id=356799831&amp;case_uid=0ec07bd5-3e35-489e-b6f8-ed4607eb7077&amp;result=1&amp;new=&amp;delo_id=1540005&amp;srv_num=1\" target=\"_blank\">М-5307/2010</a> </td>\n",
       "<td align=\"center\">27.10.2010</td>\n",
       "<td> КАТЕГОРИЯ: прочие (прочие исковые дела)<br/>ИСТЕЦ(ЗАЯВИТЕЛЬ): Соколов Олег Борисович<br/>ОТВЕТЧИК: Соколов Антон Олегович</td>\n",
       "<td> Мотова Марина Александровна</td>\n",
       "<td> Заявление ВОЗВРАЩЕНО заявителю</td>\n",
       "<td>\n",
       "\t\t\t\t\t     \t\t\t\t</td>\n",
       "</tr>\n",
       "<tr valign=\"top\">\n",
       "<td>Красногвардейский районный суд</td>\n",
       "<td align=\"center\" nowrap=\"\" title=\"Для получения справки по делу, нажмите на номер дела\"><a href=\"http://kgv.spb.sudrf.ru/modules.php?name=sud_delo&amp;name_op=case&amp;case_id=357329456&amp;case_uid=8ddb68d0-51d9-4f7a-a41c-576025cc4d39&amp;result=1&amp;new=&amp;delo_id=1540005&amp;srv_num=1\" target=\"_blank\">9-892/2016 ~ М-2331/2016</a> </td>\n",
       "<td align=\"center\">28.03.2016</td>\n",
       "<td> КАТЕГОРИЯ: Иски о взыскании сумм по договору займа, кредитному договору<br/>ИСТЕЦ(ЗАЯВИТЕЛЬ): АО \"Альфа-Банк\"<br/>ОТВЕТЧИК: Соколов Олег Евгеньевич</td>\n",
       "<td> Голова Екатерина Александровна</td>\n",
       "<td> Заявление ВОЗВРАЩЕНО заявителю</td>\n",
       "<td>\n",
       "\t\t\t\t\t     \t\t\t\t</td>\n",
       "</tr>\n",
       "<tr valign=\"top\">\n",
       "<td>Невский районный суд</td>\n",
       "<td align=\"center\" nowrap=\"\" title=\"Для получения справки по делу, нажмите на номер дела\"><a href=\"http://nvs.spb.sudrf.ru/modules.php?name=sud_delo&amp;name_op=case&amp;case_id=363553018&amp;case_uid=087438d5-b8b6-437f-a97a-451280a2ca98&amp;result=1&amp;new=&amp;delo_id=1540005&amp;srv_num=1\" target=\"_blank\">М-5526/2011</a> </td>\n",
       "<td align=\"center\">12.09.2011</td>\n",
       "<td> КАТЕГОРИЯ: - из договоров в сфере:<br/>ИСТЕЦ(ЗАЯВИТЕЛЬ): Соколов Олег Вячеславович<br/>ОТВЕТЧИК: ООО \"Дилижанс\"</td>\n",
       "<td> Дворовенко Всеволод Николаевич</td>\n",
       "<td> Заявление ВОЗВРАЩЕНО заявителю</td>\n",
       "<td>\n",
       "\t\t\t\t\t     \t\t\t\t</td>\n",
       "</tr>\n",
       "<tr valign=\"top\">\n",
       "<td>Невский районный суд</td>\n",
       "<td align=\"center\" nowrap=\"\" title=\"Для получения справки по делу, нажмите на номер дела\"><a href=\"http://nvs.spb.sudrf.ru/modules.php?name=sud_delo&amp;name_op=case&amp;case_id=364360447&amp;case_uid=d216a7c5-7080-4710-af51-54a6ca7d0247&amp;result=1&amp;new=&amp;delo_id=1540005&amp;srv_num=1\" target=\"_blank\">9-443/2017 ~ М-1423/2017</a> </td>\n",
       "<td align=\"center\">21.02.2017</td>\n",
       "<td> КАТЕГОРИЯ: строительных и связанных с ними инженерных услуг<br/>ИСТЕЦ(ЗАЯВИТЕЛЬ): Соколов Олег Александрович, Чернова Лилия Алексеевна<br/>ОТВЕТЧИК: ООО \"Константа\"</td>\n",
       "<td> Завьялова Татьяна Сергеевна</td>\n",
       "<td> Заявление ВОЗВРАЩЕНО заявителю</td>\n",
       "<td>\n",
       "\t\t\t\t\t     \t\t\t\t</td>\n",
       "</tr>\n",
       "<tr valign=\"top\">\n",
       "<td>Невский районный суд</td>\n",
       "<td align=\"center\" nowrap=\"\" title=\"Для получения справки по делу, нажмите на номер дела\"><a href=\"http://nvs.spb.sudrf.ru/modules.php?name=sud_delo&amp;name_op=case&amp;case_id=364360454&amp;case_uid=83726e68-c526-44c8-b610-b169030b9d28&amp;result=1&amp;new=&amp;delo_id=1540005&amp;srv_num=1\" target=\"_blank\">9-444/2017 ~ М-1424/2017</a> </td>\n",
       "<td align=\"center\">21.02.2017</td>\n",
       "<td> КАТЕГОРИЯ: строительных и связанных с ними инженерных услуг<br/>ИСТЕЦ(ЗАЯВИТЕЛЬ): Соколов Олег Александрович, Чернова Лилия Алексеевна<br/>ОТВЕТЧИК: ООО \"Константа\"</td>\n",
       "<td> Завьялова Татьяна Сергеевна</td>\n",
       "<td> Заявление ВОЗВРАЩЕНО заявителю</td>\n",
       "<td>\n",
       "\t\t\t\t\t     \t\t\t\t</td>\n",
       "</tr>\n",
       "<tr valign=\"top\">\n",
       "<td>Невский районный суд</td>\n",
       "<td align=\"center\" nowrap=\"\" title=\"Для получения справки по делу, нажмите на номер дела\"><a href=\"http://nvs.spb.sudrf.ru/modules.php?name=sud_delo&amp;name_op=case&amp;case_id=364528812&amp;case_uid=f3b09bce-35a9-4f53-8d77-e7b26007a6dc&amp;result=1&amp;new=&amp;delo_id=1540005&amp;srv_num=1\" target=\"_blank\">9-5926/2018 ~ М-5633/2018</a> </td>\n",
       "<td align=\"center\">27.08.2018</td>\n",
       "<td> КАТЕГОРИЯ: Иные жилищные споры<br/>ИСТЕЦ(ЗАЯВИТЕЛЬ): Соколова Марина Александровна<br/>ОТВЕТЧИК: Соколов Олег Альбертович</td>\n",
       "<td> Карева Галина Георгиевна</td>\n",
       "<td> Заявление ВОЗВРАЩЕНО заявителю</td>\n",
       "<td>\n",
       "\t\t\t\t\t     \t\t\t\t</td>\n",
       "</tr>\n",
       "<tr valign=\"top\">\n",
       "<td>Петроградский районный суд</td>\n",
       "<td align=\"center\" nowrap=\"\" title=\"Для получения справки по делу, нажмите на номер дела\"><a href=\"http://pgr.spb.sudrf.ru/modules.php?name=sud_delo&amp;name_op=case&amp;case_id=366319850&amp;case_uid=2eb27e32-348b-427a-af11-c6a958233891&amp;result=1&amp;new=&amp;delo_id=1540005&amp;srv_num=1\" target=\"_blank\">9-239/2013 ~ М-5524/2012</a> </td>\n",
       "<td align=\"center\">28.12.2012</td>\n",
       "<td> КАТЕГОРИЯ: прочие (прочие исковые дела)<br/>ИСТЕЦ(ЗАЯВИТЕЛЬ): Соколов Олег Георгиевич<br/>ОТВЕТЧИК: Мишуткина Людмила Андреевна</td>\n",
       "<td> Медведева Елена Викторовна</td>\n",
       "<td> Заявление ВОЗВРАЩЕНО заявителю</td>\n",
       "<td>\n",
       "\t\t\t\t\t     \t\t\t\t</td>\n",
       "</tr>\n",
       "<tr valign=\"top\">\n",
       "<td>Фрунзенский районный суд</td>\n",
       "<td align=\"center\" nowrap=\"\" title=\"Для получения справки по делу, нажмите на номер дела\"><a href=\"http://frn.spb.sudrf.ru/modules.php?name=sud_delo&amp;name_op=case&amp;case_id=372922504&amp;case_uid=4f6975d6-2667-4059-91ca-b4ae699a18ab&amp;result=1&amp;new=&amp;delo_id=1540005&amp;srv_num=1\" target=\"_blank\">М-5494/2011</a> </td>\n",
       "<td align=\"center\">20.10.2011</td>\n",
       "<td> КАТЕГОРИЯ: - из договоров в сфере:<br/>ИСТЕЦ(ЗАЯВИТЕЛЬ): Соколов Олег Вячеславович<br/>ОТВЕТЧИК: ООО \"Дилижанс\"</td>\n",
       "<td> Кудасова Т. А.</td>\n",
       "<td> Заявление ВОЗВРАЩЕНО заявителю</td>\n",
       "<td>\n",
       "\t\t\t\t\t     \t\t\t\t</td>\n",
       "</tr>\n",
       "<tr valign=\"top\">\n",
       "<td>Фрунзенский районный суд</td>\n",
       "<td align=\"center\" nowrap=\"\" title=\"Для получения справки по делу, нажмите на номер дела\"><a href=\"http://frn.spb.sudrf.ru/modules.php?name=sud_delo&amp;name_op=case&amp;case_id=373247575&amp;case_uid=63ae3439-0875-4911-a933-3bfffa37efda&amp;result=1&amp;new=&amp;delo_id=1540005&amp;srv_num=1\" target=\"_blank\">9-3908/2014 ~ М-3593/2014</a> </td>\n",
       "<td align=\"center\">19.06.2014</td>\n",
       "<td> КАТЕГОРИЯ: Споры, связанные с наследованием имущества<br/>ИСТЕЦ(ЗАЯВИТЕЛЬ): Сытова Людмила Алексеевна<br/>ОТВЕТЧИК: Соколов Олег Викторович</td>\n",
       "<td> Яшина И. В.</td>\n",
       "<td> Заявление ВОЗВРАЩЕНО заявителю</td>\n",
       "<td>\n",
       "\t\t\t\t\t     \t\t\t\t</td>\n",
       "</tr>\n",
       "<tr valign=\"top\">\n",
       "<td>Калининский районный суд</td>\n",
       "<td align=\"center\" nowrap=\"\" title=\"Для получения справки по делу, нажмите на номер дела\"><a href=\"http://kln.spb.sudrf.ru/modules.php?name=sud_delo&amp;name_op=case&amp;case_id=374867973&amp;case_uid=26f6a42e-2fae-436a-a84e-350728b4df53&amp;result=1&amp;new=&amp;delo_id=1540005&amp;srv_num=1\" target=\"_blank\">9-276/2012 ~ М-8998/2011</a> </td>\n",
       "<td align=\"center\">22.12.2011</td>\n",
       "<td> КАТЕГОРИЯ: Другие жилищные споры<br/>ИСТЕЦ(ЗАЯВИТЕЛЬ): Соколова Виктория Юрьевна<br/>ОТВЕТЧИК: ГУ ЖАКР, Дзюбак Светлана Николаевна, Паспортная служба ЖЭС № 3 ГУ ЖА, Соколов Олег Георгиевич</td>\n",
       "<td> Ларионова Н.А.</td>\n",
       "<td> Заявление ВОЗВРАЩЕНО заявителю</td>\n",
       "<td>\n",
       "\t\t\t\t\t     \t\t\t\t</td>\n",
       "</tr>\n",
       "<tr valign=\"top\">\n",
       "<td>Калининский районный суд</td>\n",
       "<td align=\"center\" nowrap=\"\" title=\"Для получения справки по делу, нажмите на номер дела\"><a href=\"http://kln.spb.sudrf.ru/modules.php?name=sud_delo&amp;name_op=case&amp;case_id=375662191&amp;case_uid=c5768117-cf0f-4ec8-9db7-4cf640af63ee&amp;result=1&amp;new=&amp;delo_id=1540005&amp;srv_num=1\" target=\"_blank\">9а-2516/2016 ~ М-10764/2016</a> </td>\n",
       "<td align=\"center\">26.12.2016</td>\n",
       "<td> КАТЕГОРИЯ: прочие об оспаривании решения, действий (бездействия) органов военного управления<br/>ИСТЕЦ(ЗАЯВИТЕЛЬ): Соколов Олег Сергеевич<br/>ОТВЕТЧИК: Военный комиссариат Санкт-Петербурга, Отдел военного комиссариата Санкт-Петербурга в Калининском районе, Призывная комиссия МО \"Финляндский округ\"</td>\n",
       "<td> Смирнова О.А.</td>\n",
       "<td> Заявление ВОЗВРАЩЕНО заявителю</td>\n",
       "<td>\n",
       "\t\t\t\t\t     \t\t\t\t</td>\n",
       "</tr>\n",
       "<tr valign=\"top\">\n",
       "<td>Калининский районный суд</td>\n",
       "<td align=\"center\" nowrap=\"\" title=\"Для получения справки по делу, нажмите на номер дела\"><a href=\"http://kln.spb.sudrf.ru/modules.php?name=sud_delo&amp;name_op=case&amp;case_id=375716363&amp;case_uid=8bee0903-d502-463a-b292-56378ea78b62&amp;result=1&amp;new=&amp;delo_id=1540005&amp;srv_num=1\" target=\"_blank\">9-1920/2017 ~ М-6356/2017</a> </td>\n",
       "<td align=\"center\">01.11.2017</td>\n",
       "<td> КАТЕГОРИЯ: Иски о взыскании сумм по договору займа, кредитному договору<br/>ИСТЕЦ(ЗАЯВИТЕЛЬ): Калинкина Елена Анатольевна<br/>ОТВЕТЧИК: Соколов Олег Константинович</td>\n",
       "<td> Пересункина Е.В.</td>\n",
       "<td> Заявление ВОЗВРАЩЕНО заявителю</td>\n",
       "<td>\n",
       "\t\t\t\t\t     \t\t\t\t</td>\n",
       "</tr>\n",
       "<tr valign=\"top\">\n",
       "<td>Выборгский районный суд</td>\n",
       "<td align=\"center\" nowrap=\"\" title=\"Для получения справки по делу, нажмите на номер дела\"><a href=\"http://vbr.spb.sudrf.ru/modules.php?name=sud_delo&amp;name_op=case&amp;case_id=351133769&amp;case_uid=ee409300-09d3-4bcd-89d5-a94b25af3c88&amp;result=1&amp;new=&amp;delo_id=1540005&amp;srv_num=1\" target=\"_blank\">2-905/2010 (2-8064/2009;) ~ Материалы дела</a> </td>\n",
       "<td align=\"center\">26.11.2009</td>\n",
       "<td> КАТЕГОРИЯ: жалобы на действия судебных приставов-исполнителей в порядке ст. 90 закона \"Об исполнительном производстве\"<br/>ИСТЕЦ(ЗАЯВИТЕЛЬ): Соколов Олег Александрович</td>\n",
       "<td>  Лобанчук Ирина Николаевна</td>\n",
       "<td> Иск (заявление, жалоба) ОСТАВЛЕН БЕЗ РАССМОТРЕНИЯ</td>\n",
       "<td>\n",
       "\t\t\t\t\t     \t\t\t\t</td>\n",
       "</tr>\n",
       "<tr valign=\"top\">\n",
       "<td>Дзержинский районный суд</td>\n",
       "<td align=\"center\" nowrap=\"\" title=\"Для получения справки по делу, нажмите на номер дела\"><a href=\"http://dzr.spb.sudrf.ru/modules.php?name=sud_delo&amp;name_op=case&amp;case_id=353509585&amp;case_uid=f4ae72ba-ddf5-46c8-86a0-311032166fe9&amp;result=1&amp;new=&amp;delo_id=1540005&amp;srv_num=1\" target=\"_blank\">2-1578/2012 ~ М-1093/2012</a> </td>\n",
       "<td align=\"center\">17.08.2012</td>\n",
       "<td> КАТЕГОРИЯ: Другие жилищные споры<br/>ИСТЕЦ(ЗАЯВИТЕЛЬ): Соколов Олег Александрович<br/>ОТВЕТЧИК: Орозобаев Вячеслав Анварович, Петрова Марина Николаевна</td>\n",
       "<td> Реутская Ольга Владимировна</td>\n",
       "<td> Иск (заявление, жалоба) ОСТАВЛЕН БЕЗ РАССМОТРЕНИЯ</td>\n",
       "<td>\n",
       "\t\t\t\t\t     \t\t\t\t</td>\n",
       "</tr>\n",
       "<tr valign=\"top\">\n",
       "<td>Калининский районный суд</td>\n",
       "<td align=\"center\" nowrap=\"\" title=\"Для получения справки по делу, нажмите на номер дела\"><a href=\"http://kln.spb.sudrf.ru/modules.php?name=sud_delo&amp;name_op=case&amp;case_id=374872450&amp;case_uid=9aca87da-ceb6-446f-bb37-2ed13cd0987c&amp;result=1&amp;new=&amp;delo_id=1540005&amp;srv_num=1\" target=\"_blank\">2-7632/2011 ~ М-7680/2011</a> </td>\n",
       "<td align=\"center\">01.11.2011</td>\n",
       "<td> КАТЕГОРИЯ: Другие жилищные споры<br/> </td>\n",
       "<td> Ларионова Н.А.</td>\n",
       "<td> Иск (заявление, жалоба) ОСТАВЛЕН БЕЗ РАССМОТРЕНИЯ</td>\n",
       "<td>\n",
       "\t\t\t\t\t     \t\t\t\t</td>\n",
       "</tr>\n",
       "<tr valign=\"top\">\n",
       "<td>Выборгский районный суд</td>\n",
       "<td align=\"center\" nowrap=\"\" title=\"Для получения справки по делу, нажмите на номер дела\"><a href=\"http://vbr.spb.sudrf.ru/modules.php?name=sud_delo&amp;name_op=case&amp;case_id=351381346&amp;case_uid=0f2c11b1-b145-4859-9033-f09cd7927492&amp;result=1&amp;new=&amp;delo_id=1540005&amp;srv_num=1\" target=\"_blank\">2-2268/2011 ~ М-1218/2011</a> </td>\n",
       "<td align=\"center\">28.02.2011</td>\n",
       "<td> КАТЕГОРИЯ: О признании гражданина безвестно отсутствующим или об объявлении гражданина умершим<br/>ИСТЕЦ(ЗАЯВИТЕЛЬ): Соколов Олег Станиславович</td>\n",
       "<td> Яровинский Илья Викторович</td>\n",
       "<td> Иск (заявление, жалоба) УДОВЛЕТВОРЕН</td>\n",
       "<td>\n",
       "\t\t\t\t\t     \t\t\t\t</td>\n",
       "</tr>\n",
       "<tr valign=\"top\">\n",
       "<td>Санкт-Петербургский гарнизонный военный суд</td>\n",
       "<td align=\"center\" nowrap=\"\" title=\"Для получения справки по делу, нажмите на номер дела\"><a href=\"http://gvs.spb.sudrf.ru/modules.php?name=sud_delo&amp;name_op=case&amp;case_id=351508429&amp;case_uid=0e1abe7c-362c-49d2-be43-559bfc3bf437&amp;result=1&amp;new=&amp;delo_id=1540005&amp;srv_num=1\" target=\"_blank\">2-185/2013 ~ М-141/2013</a> </td>\n",
       "<td align=\"center\">29.01.2013</td>\n",
       "<td> КАТЕГОРИЯ: должностных лиц, государственных и муниципальных служащих<br/>ИСТЕЦ(ЗАЯВИТЕЛЬ): Соколов Олег Юрьевич</td>\n",
       "<td> Ефремов Дмитрий Александрович</td>\n",
       "<td> Иск (заявление, жалоба) УДОВЛЕТВОРЕН</td>\n",
       "<td> <a href=\"http://gvs.spb.sudrf.ru/modules.php?name=sud_delo&amp;name_op=doc&amp;srv_num=1&amp;number=256598661&amp;delo_id=1540005&amp;new=&amp;text_number=1\" target=\"_blank\" title=\"Решение\">Текст документа</a>    \t\t\t\t</td>\n",
       "</tr>\n",
       "<tr valign=\"top\">\n",
       "<td>Красносельский районный суд</td>\n",
       "<td align=\"center\" nowrap=\"\" title=\"Для получения справки по делу, нажмите на номер дела\"><a href=\"http://ksl.spb.sudrf.ru/modules.php?name=sud_delo&amp;name_op=case&amp;case_id=358316142&amp;case_uid=5ce5d1f3-c7fd-40fe-95e4-8057ec8093f7&amp;result=1&amp;new=&amp;delo_id=1540005&amp;srv_num=1\" target=\"_blank\">2-4728/2014 ~ М-3566/2014</a> </td>\n",
       "<td align=\"center\">08.07.2014</td>\n",
       "<td> КАТЕГОРИЯ: прочие (прочие исковые дела)<br/><br/>ОТВЕТЧИК: Соколов Олег Геннадьевич</td>\n",
       "<td> Веретин Д.И.</td>\n",
       "<td> Иск (заявление, жалоба) УДОВЛЕТВОРЕН</td>\n",
       "<td>\n",
       "\t\t\t\t\t     \t\t\t\t</td>\n",
       "</tr>\n",
       "</table>\n",
       "</div>\n",
       "<div align=\"left\" id=\"num3\" style=\"padding-top: 0.2em; width:30%; font-size: 11px; color: #555;\">\n",
       "\t\tСтраницы : <b>1</b> | <a href=\"#\" onclick=\"pages(2); return false;\">2</a> | <a href=\"#\" onclick=\"pages(3); return false;\">3</a> <a href=\"#\" onclick=\"pages(2); return false;\" title=\"Следующая страница\">&gt;</a>\n",
       "<a href=\"#\" onclick=\"pages(3); return false;\" title=\"На последнюю страницу списка\">&gt;&gt;</a> </div>\n",
       "</div>"
      ]
     },
     "execution_count": 262,
     "metadata": {},
     "output_type": "execute_result"
    }
   ],
   "source": [
    "print(a.url)\n",
    "BeautifulSoup(a.content)\n"
   ]
  },
  {
   "cell_type": "code",
   "execution_count": 165,
   "metadata": {},
   "outputs": [
    {
     "data": {
      "text/plain": [
       "['id=300',\n",
       " 'page=0',\n",
       " 'act=go_sp_search',\n",
       " 'searchtype=sp',\n",
       " 'court_subj=78',\n",
       " 'suds_subj=',\n",
       " 'num_d=',\n",
       " 'f_name=%D0%A1%D0%BE%D0%BA%D0%BE%D0%BB%D0%BE%D0%B2+%D0%9E%D0%BB%D0%B5%D0%B3',\n",
       " 'date_num_in=',\n",
       " 'date_num_out=',\n",
       " 'suds_vid=',\n",
       " 'spkatg=',\n",
       " 'suds_pip=',\n",
       " 'st_cat=',\n",
       " 'sud_pip=']"
      ]
     },
     "execution_count": 165,
     "metadata": {},
     "output_type": "execute_result"
    }
   ],
   "source": [
    "\"https://sudrf.ru/index.php?id=300&page=0&act=go_sp_search&searchtype=sp&court_subj=78&suds_subj=&num_d=&f_name=%D0%A1%D0%BE%D0%BA%D0%BE%D0%BB%D0%BE%D0%B2+%D0%9E%D0%BB%D0%B5%D0%B3&date_num_in=&date_num_out=&suds_vid=&spkatg=&suds_pip=&st_cat=&sud_pip=\".split('?')[1].split('&')\n",
    "        "
   ]
  },
  {
   "cell_type": "code",
   "execution_count": 169,
   "metadata": {},
   "outputs": [
    {
     "data": {
      "text/plain": [
       "'f_name=%D0%A1%D0%BE%D0%BA%D0%BE%D0%BB%D0%BE%D0%B2+%D0%9E%D0%BB%D0%B5%D0%B3+%D0%92%D0%B0%D0%BB%D0%B5%D1%80%D1%8C%D0%B5%D0%B2%D0%B8%D1%87'"
      ]
     },
     "execution_count": 169,
     "metadata": {},
     "output_type": "execute_result"
    }
   ],
   "source": [
    "a.url.split('?')[1].split('&')[4]\n"
   ]
  },
  {
   "cell_type": "code",
   "execution_count": 232,
   "metadata": {},
   "outputs": [],
   "source": [
    "params={\n",
    "    'id': '300',\n",
    "    'act': 'go_sp_search',\n",
    "    'searchtype': 'sp',\n",
    "    'court_subj': '78',\n",
    "}"
   ]
  },
  {
   "cell_type": "code",
   "execution_count": 172,
   "metadata": {},
   "outputs": [
    {
     "data": {
      "text/plain": [
       "'{\"id\": \"300\", \"page\": \"1\", \"searchtype\": \"sp\", \"court_subj\": \"78\", \"f_name\": \"\\\\u0421\\\\u043e\\\\u043a\\\\u043e\\\\u043b\\\\u043e\\\\u0432 \\\\u041e\\\\u043b\\\\u0435\\\\u0433 \\\\u0412\\\\u0430\\\\u043b\\\\u0435\\\\u0440\\\\u044c\\\\u0435\\\\u0432\\\\u0438\\\\u0447\"}'"
      ]
     },
     "execution_count": 172,
     "metadata": {},
     "output_type": "execute_result"
    }
   ],
   "source": [
    "json.dumps(params)"
   ]
  },
  {
   "cell_type": "code",
   "execution_count": 203,
   "metadata": {},
   "outputs": [],
   "source": [
    "from main import ParserAbc"
   ]
  },
  {
   "cell_type": "code",
   "execution_count": 231,
   "metadata": {},
   "outputs": [],
   "source": [
    "class Sud(ParserAbc):\n",
    "    def normalize_html(self, html_data):\n",
    "        soup = BeautifulSoup(html_data.content)\n",
    "        return soup"
   ]
  },
  {
   "cell_type": "code",
   "execution_count": 233,
   "metadata": {},
   "outputs": [],
   "source": [
    "sud = Sud('https://sudrf.ru/index.php', params)"
   ]
  },
  {
   "cell_type": "code",
   "execution_count": 234,
   "metadata": {},
   "outputs": [
    {
     "data": {
      "text/plain": [
       "{'id': '300',\n",
       " 'act': 'go_sp_search',\n",
       " 'searchtype': 'sp',\n",
       " 'court_subj': '78',\n",
       " 'f_name': 'Соколов Олег Валерьевич',\n",
       " 'page': '1'}"
      ]
     },
     "execution_count": 234,
     "metadata": {},
     "output_type": "execute_result"
    }
   ],
   "source": [
    "{**sud._params, **{'f_name': 'Соколов Олег Валерьевич', 'page': '1'}}"
   ]
  },
  {
   "cell_type": "code",
   "execution_count": 310,
   "metadata": {},
   "outputs": [
    {
     "name": "stderr",
     "output_type": "stream",
     "text": [
      "/Users/konstantinnabatcikov/Documents/AutoDrive/Notebooks/venv/lib/python3.8/site-packages/urllib3/connectionpool.py:997: InsecureRequestWarning: Unverified HTTPS request is being made. Adding certificate verification is strongly advised. See: https://urllib3.readthedocs.io/en/latest/advanced-usage.html#ssl-warnings\n",
      "  warnings.warn(\n"
     ]
    }
   ],
   "source": [
    "b = sud.pipeline_one({**sud._params, **{'f_name': 'Набатчиков Константин Александрович', 'page': '1', 'court_subj': '77'}})\n"
   ]
  },
  {
   "cell_type": "code",
   "execution_count": 311,
   "metadata": {},
   "outputs": [
    {
     "ename": "AttributeError",
     "evalue": "'NoneType' object has no attribute 'find_all'",
     "output_type": "error",
     "traceback": [
      "\u001b[0;31m---------------------------------------------------------------------------\u001b[0m",
      "\u001b[0;31mAttributeError\u001b[0m                            Traceback (most recent call last)",
      "\u001b[0;32m<ipython-input-311-c93293253366>\u001b[0m in \u001b[0;36m<module>\u001b[0;34m\u001b[0m\n\u001b[1;32m      2\u001b[0m \u001b[0;31m# Берет количество страниц и если не последняя еще раз делает запрос\u001b[0m\u001b[0;34m\u001b[0m\u001b[0;34m\u001b[0m\u001b[0;34m\u001b[0m\u001b[0m\n\u001b[1;32m      3\u001b[0m \u001b[0mdata\u001b[0m \u001b[0;34m=\u001b[0m \u001b[0;34m{\u001b[0m\u001b[0;34m'header'\u001b[0m\u001b[0;34m:\u001b[0m \u001b[0;34m[\u001b[0m\u001b[0;34m]\u001b[0m\u001b[0;34m,\u001b[0m \u001b[0;34m'data'\u001b[0m\u001b[0;34m:\u001b[0m \u001b[0;34m[\u001b[0m\u001b[0;34m]\u001b[0m\u001b[0;34m}\u001b[0m\u001b[0;34m\u001b[0m\u001b[0;34m\u001b[0m\u001b[0m\n\u001b[0;32m----> 4\u001b[0;31m \u001b[0;32mfor\u001b[0m \u001b[0mrow_i\u001b[0m\u001b[0;34m,\u001b[0m \u001b[0mrow\u001b[0m \u001b[0;32min\u001b[0m \u001b[0menumerate\u001b[0m\u001b[0;34m(\u001b[0m\u001b[0mb\u001b[0m\u001b[0;34m.\u001b[0m\u001b[0mtable\u001b[0m\u001b[0;34m.\u001b[0m\u001b[0mfind_all\u001b[0m\u001b[0;34m(\u001b[0m\u001b[0;34m'tr'\u001b[0m\u001b[0;34m)\u001b[0m\u001b[0;34m)\u001b[0m\u001b[0;34m:\u001b[0m\u001b[0;34m\u001b[0m\u001b[0;34m\u001b[0m\u001b[0m\n\u001b[0m\u001b[1;32m      5\u001b[0m \u001b[0;31m#    print(\"Row: \", row_i)\u001b[0m\u001b[0;34m\u001b[0m\u001b[0;34m\u001b[0m\u001b[0;34m\u001b[0m\u001b[0m\n\u001b[1;32m      6\u001b[0m     \u001b[0;32mif\u001b[0m \u001b[0mrow_i\u001b[0m \u001b[0;34m==\u001b[0m \u001b[0;36m0\u001b[0m\u001b[0;34m:\u001b[0m\u001b[0;34m\u001b[0m\u001b[0;34m\u001b[0m\u001b[0m\n",
      "\u001b[0;31mAttributeError\u001b[0m: 'NoneType' object has no attribute 'find_all'"
     ]
    }
   ],
   "source": [
    "# Получить и нормальизовать таблицу\n",
    "# Берет количество страниц и если не последняя еще раз делает запрос\n",
    "data = {'header': [], 'data': []}\n",
    "for row_i, row in enumerate(b.table.find_all('tr')):\n",
    "#    print(\"Row: \", row_i)\n",
    "    if row_i == 0:\n",
    "        data['header'] = [x.text for x in row.find_all('td')]\n",
    "    else:\n",
    "        for col_i, column in enumerate(row.find_all('td')):\n",
    "            data['data'].append({\n",
    "                data['header'][col_i]: column.text\n",
    "            })\n",
    "#            print(column.text)\n",
    "#    print('---')"
   ]
  },
  {
   "cell_type": "code",
   "execution_count": 309,
   "metadata": {},
   "outputs": [
    {
     "data": {
      "text/plain": [
       "{'header': ['Суд',\n",
       "  'Номер дела',\n",
       "  'Дата поступления',\n",
       "  'Информация по делу',\n",
       "  'Судья',\n",
       "  'Результат слушания',\n",
       "  'Судебныеакты'],\n",
       " 'data': [{'Суд': 'Выборгский районный суд'},\n",
       "  {'Номер дела': '1-132/2011 (1-1595/2010;) '},\n",
       "  {'Дата поступления': '30.09.2010'},\n",
       "  {'Информация по делу': '\\xa0Котовский Денис Валерьевич - ст.126 ч.2 п.п.а,в,з; ст.163 ч.2 п.п.а,в УК РФ;Соколов Олег Дмитриевич - ст.33 ч.5-ст.126 ч.2 п.п.а,г,з; ст.33 ч.5-ст.163 ч.2 п.п.а,в УК РФ;Федоров Максим Сергеевич - ст.126 ч.2 п.п.а,в,д,з; ст.163 ч.2 п.п.а,в УК РФ'},\n",
       "  {'Судья': '\\xa0 Яковлев Сергей Юрьевич'},\n",
       "  {'Результат слушания': '\\xa0Вынесен ПРИГОВОР'},\n",
       "  {'Судебныеакты': '\\r\\n\\t\\t\\t\\t\\t\\xa0\\xa0\\xa0\\xa0\\xa0\\t\\t\\t\\t'},\n",
       "  {'Суд': 'Выборгский районный суд'},\n",
       "  {'Номер дела': '1-159/2016 '},\n",
       "  {'Дата поступления': '11.01.2016'},\n",
       "  {'Информация по делу': '\\xa0Соколов Олег Владиславович - ст.228 ч.2 УК РФ'},\n",
       "  {'Судья': '\\xa0Фатеенкова Валерия Алексеевна'},\n",
       "  {'Результат слушания': '\\xa0Вынесен ПРИГОВОР'},\n",
       "  {'Судебныеакты': '\\xa0Текст\\xa0документа\\xa0\\xa0\\xa0\\xa0\\t\\t\\t\\t'},\n",
       "  {'Суд': 'Выборгский районный суд'},\n",
       "  {'Номер дела': '1-483/2019 '},\n",
       "  {'Дата поступления': '06.03.2019'},\n",
       "  {'Информация по делу': '\\xa0Соколов Олег Алексеевич - ст.238 ч.1 УК РФ'},\n",
       "  {'Судья': '\\xa0Никитина Елена Евгеньевна'},\n",
       "  {'Результат слушания': '\\xa0Вынесен ПРИГОВОР'},\n",
       "  {'Судебныеакты': '\\xa0Текст\\xa0документа\\xa0\\xa0\\xa0\\xa0\\t\\t\\t\\t'},\n",
       "  {'Суд': 'Красносельский районный суд'},\n",
       "  {'Номер дела': '1-164/2017 '},\n",
       "  {'Дата поступления': '13.01.2017'},\n",
       "  {'Информация по делу': '\\xa0Соколов Олег Авинерович - ст.264 ч.1 УК РФ'},\n",
       "  {'Судья': '\\xa0Стасюкова Светлана Геннадьевна'},\n",
       "  {'Результат слушания': '\\xa0Вынесен ПРИГОВОР'},\n",
       "  {'Судебныеакты': '\\r\\n\\t\\t\\t\\t\\t\\xa0\\xa0\\xa0\\xa0\\xa0\\t\\t\\t\\t'},\n",
       "  {'Суд': 'Невский районный суд'},\n",
       "  {'Номер дела': '1-545/2012 '},\n",
       "  {'Дата поступления': '25.04.2012'},\n",
       "  {'Информация по делу': '\\xa0Соколов Олег Николаевич - ст.158 ч.2 п.в УК РФ'},\n",
       "  {'Судья': '\\xa0Михайлова Татьяна Владимировна'},\n",
       "  {'Результат слушания': '\\xa0Вынесен ПРИГОВОР'},\n",
       "  {'Судебныеакты': '\\xa0Текст\\xa0документа\\xa0\\xa0\\xa0\\xa0\\t\\t\\t\\t'},\n",
       "  {'Суд': 'Невский районный суд'},\n",
       "  {'Номер дела': '1-832/2017 '},\n",
       "  {'Дата поступления': '02.06.2017'},\n",
       "  {'Информация по делу': '\\xa0Соколов Олег Николаевич - ст.222 ч.1 УК РФ'},\n",
       "  {'Судья': '\\xa0Баширов Газиз Наильевич'},\n",
       "  {'Результат слушания': '\\xa0Вынесен ПРИГОВОР'},\n",
       "  {'Судебныеакты': '\\xa0Текст\\xa0документа\\xa0\\xa0\\xa0\\xa0\\t\\t\\t\\t'},\n",
       "  {'Суд': 'Невский районный суд'},\n",
       "  {'Номер дела': '6-537/2014 '},\n",
       "  {'Дата поступления': '02.04.2014'},\n",
       "  {'Информация по делу': '\\xa0ПРАВОНАРУШЕНИЕ: Соколов Олег Николаевич - КоАП: ст. 20.1 ч.1'},\n",
       "  {'Судья': '\\xa0Петий Светлана Сергеевна'},\n",
       "  {'Результат слушания': '\\xa0Вынесено постановление о назначении административного наказания'},\n",
       "  {'Судебныеакты': '\\r\\n\\t\\t\\t\\t\\t\\xa0\\xa0\\xa0\\xa0\\xa0\\t\\t\\t\\t'},\n",
       "  {'Суд': 'Красногвардейский районный суд'},\n",
       "  {'Номер дела': 'М-5307/2010 '},\n",
       "  {'Дата поступления': '27.10.2010'},\n",
       "  {'Информация по делу': '\\xa0КАТЕГОРИЯ: прочие (прочие исковые дела)ИСТЕЦ(ЗАЯВИТЕЛЬ): Соколов Олег БорисовичОТВЕТЧИК: Соколов Антон Олегович'},\n",
       "  {'Судья': '\\xa0Мотова Марина Александровна'},\n",
       "  {'Результат слушания': '\\xa0Заявление ВОЗВРАЩЕНО заявителю'},\n",
       "  {'Судебныеакты': '\\r\\n\\t\\t\\t\\t\\t\\xa0\\xa0\\xa0\\xa0\\xa0\\t\\t\\t\\t'},\n",
       "  {'Суд': 'Красногвардейский районный суд'},\n",
       "  {'Номер дела': '9-892/2016 ~ М-2331/2016 '},\n",
       "  {'Дата поступления': '28.03.2016'},\n",
       "  {'Информация по делу': '\\xa0КАТЕГОРИЯ: Иски о взыскании сумм по договору займа, кредитному договоруИСТЕЦ(ЗАЯВИТЕЛЬ): АО \"Альфа-Банк\"ОТВЕТЧИК: Соколов Олег Евгеньевич'},\n",
       "  {'Судья': '\\xa0Голова Екатерина Александровна'},\n",
       "  {'Результат слушания': '\\xa0Заявление ВОЗВРАЩЕНО заявителю'},\n",
       "  {'Судебныеакты': '\\r\\n\\t\\t\\t\\t\\t\\xa0\\xa0\\xa0\\xa0\\xa0\\t\\t\\t\\t'},\n",
       "  {'Суд': 'Невский районный суд'},\n",
       "  {'Номер дела': 'М-5526/2011 '},\n",
       "  {'Дата поступления': '12.09.2011'},\n",
       "  {'Информация по делу': '\\xa0КАТЕГОРИЯ: - из договоров в сфере:ИСТЕЦ(ЗАЯВИТЕЛЬ): Соколов Олег ВячеславовичОТВЕТЧИК: ООО \"Дилижанс\"'},\n",
       "  {'Судья': '\\xa0Дворовенко Всеволод Николаевич'},\n",
       "  {'Результат слушания': '\\xa0Заявление ВОЗВРАЩЕНО заявителю'},\n",
       "  {'Судебныеакты': '\\r\\n\\t\\t\\t\\t\\t\\xa0\\xa0\\xa0\\xa0\\xa0\\t\\t\\t\\t'},\n",
       "  {'Суд': 'Невский районный суд'},\n",
       "  {'Номер дела': '9-443/2017 ~ М-1423/2017 '},\n",
       "  {'Дата поступления': '21.02.2017'},\n",
       "  {'Информация по делу': '\\xa0КАТЕГОРИЯ: строительных и связанных с ними инженерных услугИСТЕЦ(ЗАЯВИТЕЛЬ): Соколов Олег Александрович, Чернова Лилия АлексеевнаОТВЕТЧИК: ООО \"Константа\"'},\n",
       "  {'Судья': '\\xa0Завьялова Татьяна Сергеевна'},\n",
       "  {'Результат слушания': '\\xa0Заявление ВОЗВРАЩЕНО заявителю'},\n",
       "  {'Судебныеакты': '\\r\\n\\t\\t\\t\\t\\t\\xa0\\xa0\\xa0\\xa0\\xa0\\t\\t\\t\\t'},\n",
       "  {'Суд': 'Невский районный суд'},\n",
       "  {'Номер дела': '9-444/2017 ~ М-1424/2017 '},\n",
       "  {'Дата поступления': '21.02.2017'},\n",
       "  {'Информация по делу': '\\xa0КАТЕГОРИЯ: строительных и связанных с ними инженерных услугИСТЕЦ(ЗАЯВИТЕЛЬ): Соколов Олег Александрович, Чернова Лилия АлексеевнаОТВЕТЧИК: ООО \"Константа\"'},\n",
       "  {'Судья': '\\xa0Завьялова Татьяна Сергеевна'},\n",
       "  {'Результат слушания': '\\xa0Заявление ВОЗВРАЩЕНО заявителю'},\n",
       "  {'Судебныеакты': '\\r\\n\\t\\t\\t\\t\\t\\xa0\\xa0\\xa0\\xa0\\xa0\\t\\t\\t\\t'},\n",
       "  {'Суд': 'Невский районный суд'},\n",
       "  {'Номер дела': '9-5926/2018 ~ М-5633/2018 '},\n",
       "  {'Дата поступления': '27.08.2018'},\n",
       "  {'Информация по делу': '\\xa0КАТЕГОРИЯ: Иные жилищные спорыИСТЕЦ(ЗАЯВИТЕЛЬ): Соколова Марина АлександровнаОТВЕТЧИК: Соколов Олег Альбертович'},\n",
       "  {'Судья': '\\xa0Карева Галина Георгиевна'},\n",
       "  {'Результат слушания': '\\xa0Заявление ВОЗВРАЩЕНО заявителю'},\n",
       "  {'Судебныеакты': '\\r\\n\\t\\t\\t\\t\\t\\xa0\\xa0\\xa0\\xa0\\xa0\\t\\t\\t\\t'},\n",
       "  {'Суд': 'Петроградский районный суд'},\n",
       "  {'Номер дела': '9-239/2013 ~ М-5524/2012 '},\n",
       "  {'Дата поступления': '28.12.2012'},\n",
       "  {'Информация по делу': '\\xa0КАТЕГОРИЯ: прочие (прочие исковые дела)ИСТЕЦ(ЗАЯВИТЕЛЬ): Соколов Олег ГеоргиевичОТВЕТЧИК: Мишуткина Людмила Андреевна'},\n",
       "  {'Судья': '\\xa0Медведева Елена Викторовна'},\n",
       "  {'Результат слушания': '\\xa0Заявление ВОЗВРАЩЕНО заявителю'},\n",
       "  {'Судебныеакты': '\\r\\n\\t\\t\\t\\t\\t\\xa0\\xa0\\xa0\\xa0\\xa0\\t\\t\\t\\t'},\n",
       "  {'Суд': 'Фрунзенский районный суд'},\n",
       "  {'Номер дела': 'М-5494/2011 '},\n",
       "  {'Дата поступления': '20.10.2011'},\n",
       "  {'Информация по делу': '\\xa0КАТЕГОРИЯ: - из договоров в сфере:ИСТЕЦ(ЗАЯВИТЕЛЬ): Соколов Олег ВячеславовичОТВЕТЧИК: ООО \"Дилижанс\"'},\n",
       "  {'Судья': '\\xa0Кудасова Т. А.'},\n",
       "  {'Результат слушания': '\\xa0Заявление ВОЗВРАЩЕНО заявителю'},\n",
       "  {'Судебныеакты': '\\r\\n\\t\\t\\t\\t\\t\\xa0\\xa0\\xa0\\xa0\\xa0\\t\\t\\t\\t'},\n",
       "  {'Суд': 'Фрунзенский районный суд'},\n",
       "  {'Номер дела': '9-3908/2014 ~ М-3593/2014 '},\n",
       "  {'Дата поступления': '19.06.2014'},\n",
       "  {'Информация по делу': '\\xa0КАТЕГОРИЯ: Споры, связанные с наследованием имуществаИСТЕЦ(ЗАЯВИТЕЛЬ): Сытова Людмила АлексеевнаОТВЕТЧИК: Соколов Олег Викторович'},\n",
       "  {'Судья': '\\xa0Яшина И. В.'},\n",
       "  {'Результат слушания': '\\xa0Заявление ВОЗВРАЩЕНО заявителю'},\n",
       "  {'Судебныеакты': '\\r\\n\\t\\t\\t\\t\\t\\xa0\\xa0\\xa0\\xa0\\xa0\\t\\t\\t\\t'},\n",
       "  {'Суд': 'Калининский районный суд'},\n",
       "  {'Номер дела': '9-276/2012 ~ М-8998/2011 '},\n",
       "  {'Дата поступления': '22.12.2011'},\n",
       "  {'Информация по делу': '\\xa0КАТЕГОРИЯ: Другие жилищные спорыИСТЕЦ(ЗАЯВИТЕЛЬ): Соколова Виктория ЮрьевнаОТВЕТЧИК: ГУ ЖАКР, Дзюбак Светлана Николаевна, Паспортная служба ЖЭС № 3 ГУ ЖА, Соколов Олег Георгиевич'},\n",
       "  {'Судья': '\\xa0Ларионова Н.А.'},\n",
       "  {'Результат слушания': '\\xa0Заявление ВОЗВРАЩЕНО заявителю'},\n",
       "  {'Судебныеакты': '\\r\\n\\t\\t\\t\\t\\t\\xa0\\xa0\\xa0\\xa0\\xa0\\t\\t\\t\\t'},\n",
       "  {'Суд': 'Калининский районный суд'},\n",
       "  {'Номер дела': '9а-2516/2016 ~ М-10764/2016 '},\n",
       "  {'Дата поступления': '26.12.2016'},\n",
       "  {'Информация по делу': '\\xa0КАТЕГОРИЯ: прочие об оспаривании решения, действий (бездействия) органов военного управленияИСТЕЦ(ЗАЯВИТЕЛЬ): Соколов Олег СергеевичОТВЕТЧИК: Военный комиссариат Санкт-Петербурга, Отдел военного комиссариата Санкт-Петербурга в Калининском районе, Призывная комиссия МО \"Финляндский округ\"'},\n",
       "  {'Судья': '\\xa0Смирнова О.А.'},\n",
       "  {'Результат слушания': '\\xa0Заявление ВОЗВРАЩЕНО заявителю'},\n",
       "  {'Судебныеакты': '\\r\\n\\t\\t\\t\\t\\t\\xa0\\xa0\\xa0\\xa0\\xa0\\t\\t\\t\\t'},\n",
       "  {'Суд': 'Калининский районный суд'},\n",
       "  {'Номер дела': '9-1920/2017 ~ М-6356/2017 '},\n",
       "  {'Дата поступления': '01.11.2017'},\n",
       "  {'Информация по делу': '\\xa0КАТЕГОРИЯ: Иски о взыскании сумм по договору займа, кредитному договоруИСТЕЦ(ЗАЯВИТЕЛЬ): Калинкина Елена АнатольевнаОТВЕТЧИК: Соколов Олег Константинович'},\n",
       "  {'Судья': '\\xa0Пересункина Е.В.'},\n",
       "  {'Результат слушания': '\\xa0Заявление ВОЗВРАЩЕНО заявителю'},\n",
       "  {'Судебныеакты': '\\r\\n\\t\\t\\t\\t\\t\\xa0\\xa0\\xa0\\xa0\\xa0\\t\\t\\t\\t'},\n",
       "  {'Суд': 'Выборгский районный суд'},\n",
       "  {'Номер дела': '2-905/2010 (2-8064/2009;) ~ Материалы дела '},\n",
       "  {'Дата поступления': '26.11.2009'},\n",
       "  {'Информация по делу': '\\xa0КАТЕГОРИЯ: жалобы на действия судебных приставов-исполнителей в порядке ст. 90 закона \"Об исполнительном производстве\"ИСТЕЦ(ЗАЯВИТЕЛЬ): Соколов Олег Александрович'},\n",
       "  {'Судья': '\\xa0 Лобанчук Ирина Николаевна'},\n",
       "  {'Результат слушания': '\\xa0Иск (заявление, жалоба) ОСТАВЛЕН БЕЗ РАССМОТРЕНИЯ'},\n",
       "  {'Судебныеакты': '\\r\\n\\t\\t\\t\\t\\t\\xa0\\xa0\\xa0\\xa0\\xa0\\t\\t\\t\\t'},\n",
       "  {'Суд': 'Дзержинский районный суд'},\n",
       "  {'Номер дела': '2-1578/2012 ~ М-1093/2012 '},\n",
       "  {'Дата поступления': '17.08.2012'},\n",
       "  {'Информация по делу': '\\xa0КАТЕГОРИЯ: Другие жилищные спорыИСТЕЦ(ЗАЯВИТЕЛЬ): Соколов Олег АлександровичОТВЕТЧИК: Орозобаев Вячеслав Анварович, Петрова Марина Николаевна'},\n",
       "  {'Судья': '\\xa0Реутская Ольга Владимировна'},\n",
       "  {'Результат слушания': '\\xa0Иск (заявление, жалоба) ОСТАВЛЕН БЕЗ РАССМОТРЕНИЯ'},\n",
       "  {'Судебныеакты': '\\r\\n\\t\\t\\t\\t\\t\\xa0\\xa0\\xa0\\xa0\\xa0\\t\\t\\t\\t'},\n",
       "  {'Суд': 'Калининский районный суд'},\n",
       "  {'Номер дела': '2-7632/2011 ~ М-7680/2011 '},\n",
       "  {'Дата поступления': '01.11.2011'},\n",
       "  {'Информация по делу': '\\xa0КАТЕГОРИЯ: Другие жилищные споры\\xa0'},\n",
       "  {'Судья': '\\xa0Ларионова Н.А.'},\n",
       "  {'Результат слушания': '\\xa0Иск (заявление, жалоба) ОСТАВЛЕН БЕЗ РАССМОТРЕНИЯ'},\n",
       "  {'Судебныеакты': '\\r\\n\\t\\t\\t\\t\\t\\xa0\\xa0\\xa0\\xa0\\xa0\\t\\t\\t\\t'},\n",
       "  {'Суд': 'Выборгский районный суд'},\n",
       "  {'Номер дела': '2-2268/2011 ~ М-1218/2011 '},\n",
       "  {'Дата поступления': '28.02.2011'},\n",
       "  {'Информация по делу': '\\xa0КАТЕГОРИЯ: О признании гражданина безвестно отсутствующим или об объявлении гражданина умершимИСТЕЦ(ЗАЯВИТЕЛЬ): Соколов Олег Станиславович'},\n",
       "  {'Судья': '\\xa0Яровинский Илья Викторович'},\n",
       "  {'Результат слушания': '\\xa0Иск (заявление, жалоба) УДОВЛЕТВОРЕН'},\n",
       "  {'Судебныеакты': '\\r\\n\\t\\t\\t\\t\\t\\xa0\\xa0\\xa0\\xa0\\xa0\\t\\t\\t\\t'},\n",
       "  {'Суд': 'Санкт-Петербургский гарнизонный военный суд'},\n",
       "  {'Номер дела': '2-185/2013 ~ М-141/2013 '},\n",
       "  {'Дата поступления': '29.01.2013'},\n",
       "  {'Информация по делу': '\\xa0КАТЕГОРИЯ: должностных лиц, государственных и муниципальных служащихИСТЕЦ(ЗАЯВИТЕЛЬ): Соколов Олег Юрьевич'},\n",
       "  {'Судья': '\\xa0Ефремов Дмитрий Александрович'},\n",
       "  {'Результат слушания': '\\xa0Иск (заявление, жалоба) УДОВЛЕТВОРЕН'},\n",
       "  {'Судебныеакты': '\\xa0Текст\\xa0документа\\xa0\\xa0\\xa0\\xa0\\t\\t\\t\\t'},\n",
       "  {'Суд': 'Красносельский районный суд'},\n",
       "  {'Номер дела': '2-4728/2014 ~ М-3566/2014 '},\n",
       "  {'Дата поступления': '08.07.2014'},\n",
       "  {'Информация по делу': '\\xa0КАТЕГОРИЯ: прочие (прочие исковые дела)ОТВЕТЧИК: Соколов Олег Геннадьевич'},\n",
       "  {'Судья': '\\xa0Веретин Д.И.'},\n",
       "  {'Результат слушания': '\\xa0Иск (заявление, жалоба) УДОВЛЕТВОРЕН'},\n",
       "  {'Судебныеакты': '\\r\\n\\t\\t\\t\\t\\t\\xa0\\xa0\\xa0\\xa0\\xa0\\t\\t\\t\\t'}]}"
      ]
     },
     "execution_count": 309,
     "metadata": {},
     "output_type": "execute_result"
    }
   ],
   "source": [
    "data"
   ]
  },
  {
   "cell_type": "code",
   "execution_count": 296,
   "metadata": {},
   "outputs": [
    {
     "data": {
      "text/plain": [
       "<tr align=\"center\" id=\"head_num\">\n",
       "<td>Суд</td>\n",
       "<td>Номер дела</td>\n",
       "<td>Дата поступления</td>\n",
       "<td>Информация по делу</td>\n",
       "<td>Судья</td>\n",
       "<td>Результат слушания</td>\n",
       "<td>Судебные<br/>акты</td>\n",
       "</tr>"
      ]
     },
     "execution_count": 296,
     "metadata": {},
     "output_type": "execute_result"
    }
   ],
   "source": [
    "row"
   ]
  },
  {
   "cell_type": "code",
   "execution_count": 265,
   "metadata": {},
   "outputs": [
    {
     "data": {
      "text/plain": [
       "'3'"
      ]
     },
     "execution_count": 265,
     "metadata": {},
     "output_type": "execute_result"
    }
   ],
   "source": [
    "# get all_pages\n",
    "re.search(r\"pages\\(([\\d]+)\\)\", b.find_all('a')[-1]['onclick']).group(1)\n"
   ]
  },
  {
   "cell_type": "code",
   "execution_count": 276,
   "metadata": {},
   "outputs": [
    {
     "data": {
      "text/plain": [
       "<div class=\"style3\" style=\"padding-left:1%; \">\n",
       "<div align=\"center\" class=\"style4\">\n",
       "<div id=\"line\"></div>\n",
       "<font size=\"5\">Результаты поиска</font>\n",
       "<div id=\"line\"></div>\n",
       "</div>\n",
       "<div align=\"left\" id=\"num1\" style=\"padding-top: 0.2em; width:30%; font-size: 11px; color: #555; float: left;\">\n",
       "\tСтраницы : <b>1</b> | <a href=\"#\" onclick=\"pages(2); return false;\">2</a> | <a href=\"#\" onclick=\"pages(3); return false;\">3</a> <a href=\"#\" onclick=\"pages(2); return false;\" title=\"Следующая страница\">&gt;</a>\n",
       "<a href=\"#\" onclick=\"pages(3); return false;\" title=\"На последнюю страницу списка\">&gt;&gt;</a> </div>\n",
       "<div align=\"right\" style=\"width:70%; font-size: 11px; color: #555; float: left;\">\n",
       "\t\t\tВсего по запросу найдено - 65. На странице записи с 1 по 25\t\t</div>\n",
       "<br/>\n",
       "<div id=\"num2\">\n",
       "<table border=\"0\" cellpadding=\"3\" cellspacing=\"0\" id=\"tablcont\" width=\"100%\">\n",
       "<tr align=\"center\" id=\"head_num\">\n",
       "<td>Суд</td>\n",
       "<td>Номер дела</td>\n",
       "<td>Дата поступления</td>\n",
       "<td>Информация по делу</td>\n",
       "<td>Судья</td>\n",
       "<td>Результат слушания</td>\n",
       "<td>Судебные<br/>акты</td>\n",
       "</tr>\n",
       "<tr valign=\"top\">\n",
       "<td>Выборгский районный суд</td>\n",
       "<td align=\"center\" nowrap=\"\" title=\"Для получения справки по делу, нажмите на номер дела\"><a href=\"http://vbr.spb.sudrf.ru/modules.php?name=sud_delo&amp;name_op=case&amp;case_id=352991639&amp;case_uid=5f14beb7-4d97-4217-a011-c35a4da57731&amp;result=1&amp;new=&amp;delo_id=1540006&amp;srv_num=1\" target=\"_blank\">1-132/2011 (1-1595/2010;)</a> </td>\n",
       "<td align=\"center\">30.09.2010</td>\n",
       "<td> Котовский Денис Валерьевич - ст.126 ч.2 п.п.а,в,з; ст.163 ч.2 п.п.а,в УК РФ;<br/>Соколов Олег Дмитриевич - ст.33 ч.5-ст.126 ч.2 п.п.а,г,з; ст.33 ч.5-ст.163 ч.2 п.п.а,в УК РФ;<br/>Федоров Максим Сергеевич - ст.126 ч.2 п.п.а,в,д,з; ст.163 ч.2 п.п.а,в УК РФ</td>\n",
       "<td>  Яковлев Сергей Юрьевич</td>\n",
       "<td> Вынесен ПРИГОВОР</td>\n",
       "<td>\n",
       "\t\t\t\t\t     \t\t\t\t</td>\n",
       "</tr>\n",
       "<tr valign=\"top\">\n",
       "<td>Выборгский районный суд</td>\n",
       "<td align=\"center\" nowrap=\"\" title=\"Для получения справки по делу, нажмите на номер дела\"><a href=\"http://vbr.spb.sudrf.ru/modules.php?name=sud_delo&amp;name_op=case&amp;case_id=353072452&amp;case_uid=5bc39031-ec1f-41e2-a644-80faed33205a&amp;result=1&amp;new=&amp;delo_id=1540006&amp;srv_num=1\" target=\"_blank\">1-159/2016</a> </td>\n",
       "<td align=\"center\">11.01.2016</td>\n",
       "<td> Соколов Олег Владиславович - ст.228 ч.2 УК РФ</td>\n",
       "<td> Фатеенкова Валерия Алексеевна</td>\n",
       "<td> Вынесен ПРИГОВОР</td>\n",
       "<td> <a href=\"http://vbr.spb.sudrf.ru/modules.php?name=sud_delo&amp;name_op=doc&amp;srv_num=1&amp;number=253866752&amp;delo_id=1540006&amp;new=&amp;text_number=1\" target=\"_blank\" title=\"Приговор\">Текст документа</a>    \t\t\t\t</td>\n",
       "</tr>\n",
       "<tr valign=\"top\">\n",
       "<td>Выборгский районный суд</td>\n",
       "<td align=\"center\" nowrap=\"\" title=\"Для получения справки по делу, нажмите на номер дела\"><a href=\"http://vbr.spb.sudrf.ru/modules.php?name=sud_delo&amp;name_op=case&amp;case_id=353112464&amp;case_uid=919a9f0f-57ae-470a-9175-11c7489d5d20&amp;result=1&amp;new=&amp;delo_id=1540006&amp;srv_num=1\" target=\"_blank\">1-483/2019</a> </td>\n",
       "<td align=\"center\">06.03.2019</td>\n",
       "<td> Соколов Олег Алексеевич - ст.238 ч.1 УК РФ</td>\n",
       "<td> Никитина Елена Евгеньевна</td>\n",
       "<td> Вынесен ПРИГОВОР</td>\n",
       "<td> <a href=\"http://vbr.spb.sudrf.ru/modules.php?name=sud_delo&amp;name_op=doc&amp;srv_num=1&amp;number=305709717&amp;delo_id=1540006&amp;new=&amp;text_number=1\" target=\"_blank\" title=\"Приговор\">Текст документа</a>    \t\t\t\t</td>\n",
       "</tr>\n",
       "<tr valign=\"top\">\n",
       "<td>Красносельский районный суд</td>\n",
       "<td align=\"center\" nowrap=\"\" title=\"Для получения справки по делу, нажмите на номер дела\"><a href=\"http://ksl.spb.sudrf.ru/modules.php?name=sud_delo&amp;name_op=case&amp;case_id=359288295&amp;case_uid=2b3d08d7-1568-44db-9089-cc1fd3d35256&amp;result=1&amp;new=&amp;delo_id=1540006&amp;srv_num=1\" target=\"_blank\">1-164/2017</a> </td>\n",
       "<td align=\"center\">13.01.2017</td>\n",
       "<td> Соколов Олег Авинерович - ст.264 ч.1 УК РФ</td>\n",
       "<td> Стасюкова Светлана Геннадьевна</td>\n",
       "<td> Вынесен ПРИГОВОР</td>\n",
       "<td>\n",
       "\t\t\t\t\t     \t\t\t\t</td>\n",
       "</tr>\n",
       "<tr valign=\"top\">\n",
       "<td>Невский районный суд</td>\n",
       "<td align=\"center\" nowrap=\"\" title=\"Для получения справки по делу, нажмите на номер дела\"><a href=\"http://nvs.spb.sudrf.ru/modules.php?name=sud_delo&amp;name_op=case&amp;case_id=364699269&amp;case_uid=e91e8407-f6a9-41bc-be78-f621732a84c7&amp;result=1&amp;new=&amp;delo_id=1540006&amp;srv_num=1\" target=\"_blank\">1-545/2012</a> </td>\n",
       "<td align=\"center\">25.04.2012</td>\n",
       "<td> Соколов Олег Николаевич - ст.158 ч.2 п.в УК РФ</td>\n",
       "<td> Михайлова Татьяна Владимировна</td>\n",
       "<td> Вынесен ПРИГОВОР</td>\n",
       "<td> <a href=\"http://nvs.spb.sudrf.ru/modules.php?name=sud_delo&amp;name_op=doc&amp;srv_num=1&amp;number=256063926&amp;delo_id=1540006&amp;new=&amp;text_number=1\" target=\"_blank\" title=\"Приговор\">Текст документа</a>    \t\t\t\t</td>\n",
       "</tr>\n",
       "<tr valign=\"top\">\n",
       "<td>Невский районный суд</td>\n",
       "<td align=\"center\" nowrap=\"\" title=\"Для получения справки по делу, нажмите на номер дела\"><a href=\"http://nvs.spb.sudrf.ru/modules.php?name=sud_delo&amp;name_op=case&amp;case_id=364799341&amp;case_uid=b7631c42-2f1f-4046-94b2-6d3cb6474c9e&amp;result=1&amp;new=&amp;delo_id=1540006&amp;srv_num=1\" target=\"_blank\">1-832/2017</a> </td>\n",
       "<td align=\"center\">02.06.2017</td>\n",
       "<td> Соколов Олег Николаевич - ст.222 ч.1 УК РФ</td>\n",
       "<td> Баширов Газиз Наильевич</td>\n",
       "<td> Вынесен ПРИГОВОР</td>\n",
       "<td> <a href=\"http://nvs.spb.sudrf.ru/modules.php?name=sud_delo&amp;name_op=doc&amp;srv_num=1&amp;number=256089553&amp;delo_id=1540006&amp;new=&amp;text_number=1\" target=\"_blank\" title=\"Приговор\">Текст документа</a>    \t\t\t\t</td>\n",
       "</tr>\n",
       "<tr valign=\"top\">\n",
       "<td>Невский районный суд</td>\n",
       "<td align=\"center\" nowrap=\"\" title=\"Для получения справки по делу, нажмите на номер дела\"><a href=\"http://nvs.spb.sudrf.ru/modules.php?name=sud_delo&amp;name_op=case&amp;case_id=364869214&amp;case_uid=cf9481b5-dbb5-4487-9d6f-f768aa5d878d&amp;result=1&amp;new=&amp;delo_id=1500001&amp;srv_num=1\" target=\"_blank\">6-537/2014</a> </td>\n",
       "<td align=\"center\">02.04.2014</td>\n",
       "<td> ПРАВОНАРУШЕНИЕ: Соколов Олег Николаевич - КоАП: ст. 20.1 ч.1</td>\n",
       "<td> Петий Светлана Сергеевна</td>\n",
       "<td> Вынесено постановление о назначении административного наказания</td>\n",
       "<td>\n",
       "\t\t\t\t\t     \t\t\t\t</td>\n",
       "</tr>\n",
       "<tr valign=\"top\">\n",
       "<td>Красногвардейский районный суд</td>\n",
       "<td align=\"center\" nowrap=\"\" title=\"Для получения справки по делу, нажмите на номер дела\"><a href=\"http://kgv.spb.sudrf.ru/modules.php?name=sud_delo&amp;name_op=case&amp;case_id=356799831&amp;case_uid=0ec07bd5-3e35-489e-b6f8-ed4607eb7077&amp;result=1&amp;new=&amp;delo_id=1540005&amp;srv_num=1\" target=\"_blank\">М-5307/2010</a> </td>\n",
       "<td align=\"center\">27.10.2010</td>\n",
       "<td> КАТЕГОРИЯ: прочие (прочие исковые дела)<br/>ИСТЕЦ(ЗАЯВИТЕЛЬ): Соколов Олег Борисович<br/>ОТВЕТЧИК: Соколов Антон Олегович</td>\n",
       "<td> Мотова Марина Александровна</td>\n",
       "<td> Заявление ВОЗВРАЩЕНО заявителю</td>\n",
       "<td>\n",
       "\t\t\t\t\t     \t\t\t\t</td>\n",
       "</tr>\n",
       "<tr valign=\"top\">\n",
       "<td>Красногвардейский районный суд</td>\n",
       "<td align=\"center\" nowrap=\"\" title=\"Для получения справки по делу, нажмите на номер дела\"><a href=\"http://kgv.spb.sudrf.ru/modules.php?name=sud_delo&amp;name_op=case&amp;case_id=357329456&amp;case_uid=8ddb68d0-51d9-4f7a-a41c-576025cc4d39&amp;result=1&amp;new=&amp;delo_id=1540005&amp;srv_num=1\" target=\"_blank\">9-892/2016 ~ М-2331/2016</a> </td>\n",
       "<td align=\"center\">28.03.2016</td>\n",
       "<td> КАТЕГОРИЯ: Иски о взыскании сумм по договору займа, кредитному договору<br/>ИСТЕЦ(ЗАЯВИТЕЛЬ): АО \"Альфа-Банк\"<br/>ОТВЕТЧИК: Соколов Олег Евгеньевич</td>\n",
       "<td> Голова Екатерина Александровна</td>\n",
       "<td> Заявление ВОЗВРАЩЕНО заявителю</td>\n",
       "<td>\n",
       "\t\t\t\t\t     \t\t\t\t</td>\n",
       "</tr>\n",
       "<tr valign=\"top\">\n",
       "<td>Невский районный суд</td>\n",
       "<td align=\"center\" nowrap=\"\" title=\"Для получения справки по делу, нажмите на номер дела\"><a href=\"http://nvs.spb.sudrf.ru/modules.php?name=sud_delo&amp;name_op=case&amp;case_id=363553018&amp;case_uid=087438d5-b8b6-437f-a97a-451280a2ca98&amp;result=1&amp;new=&amp;delo_id=1540005&amp;srv_num=1\" target=\"_blank\">М-5526/2011</a> </td>\n",
       "<td align=\"center\">12.09.2011</td>\n",
       "<td> КАТЕГОРИЯ: - из договоров в сфере:<br/>ИСТЕЦ(ЗАЯВИТЕЛЬ): Соколов Олег Вячеславович<br/>ОТВЕТЧИК: ООО \"Дилижанс\"</td>\n",
       "<td> Дворовенко Всеволод Николаевич</td>\n",
       "<td> Заявление ВОЗВРАЩЕНО заявителю</td>\n",
       "<td>\n",
       "\t\t\t\t\t     \t\t\t\t</td>\n",
       "</tr>\n",
       "<tr valign=\"top\">\n",
       "<td>Невский районный суд</td>\n",
       "<td align=\"center\" nowrap=\"\" title=\"Для получения справки по делу, нажмите на номер дела\"><a href=\"http://nvs.spb.sudrf.ru/modules.php?name=sud_delo&amp;name_op=case&amp;case_id=364360447&amp;case_uid=d216a7c5-7080-4710-af51-54a6ca7d0247&amp;result=1&amp;new=&amp;delo_id=1540005&amp;srv_num=1\" target=\"_blank\">9-443/2017 ~ М-1423/2017</a> </td>\n",
       "<td align=\"center\">21.02.2017</td>\n",
       "<td> КАТЕГОРИЯ: строительных и связанных с ними инженерных услуг<br/>ИСТЕЦ(ЗАЯВИТЕЛЬ): Соколов Олег Александрович, Чернова Лилия Алексеевна<br/>ОТВЕТЧИК: ООО \"Константа\"</td>\n",
       "<td> Завьялова Татьяна Сергеевна</td>\n",
       "<td> Заявление ВОЗВРАЩЕНО заявителю</td>\n",
       "<td>\n",
       "\t\t\t\t\t     \t\t\t\t</td>\n",
       "</tr>\n",
       "<tr valign=\"top\">\n",
       "<td>Невский районный суд</td>\n",
       "<td align=\"center\" nowrap=\"\" title=\"Для получения справки по делу, нажмите на номер дела\"><a href=\"http://nvs.spb.sudrf.ru/modules.php?name=sud_delo&amp;name_op=case&amp;case_id=364360454&amp;case_uid=83726e68-c526-44c8-b610-b169030b9d28&amp;result=1&amp;new=&amp;delo_id=1540005&amp;srv_num=1\" target=\"_blank\">9-444/2017 ~ М-1424/2017</a> </td>\n",
       "<td align=\"center\">21.02.2017</td>\n",
       "<td> КАТЕГОРИЯ: строительных и связанных с ними инженерных услуг<br/>ИСТЕЦ(ЗАЯВИТЕЛЬ): Соколов Олег Александрович, Чернова Лилия Алексеевна<br/>ОТВЕТЧИК: ООО \"Константа\"</td>\n",
       "<td> Завьялова Татьяна Сергеевна</td>\n",
       "<td> Заявление ВОЗВРАЩЕНО заявителю</td>\n",
       "<td>\n",
       "\t\t\t\t\t     \t\t\t\t</td>\n",
       "</tr>\n",
       "<tr valign=\"top\">\n",
       "<td>Невский районный суд</td>\n",
       "<td align=\"center\" nowrap=\"\" title=\"Для получения справки по делу, нажмите на номер дела\"><a href=\"http://nvs.spb.sudrf.ru/modules.php?name=sud_delo&amp;name_op=case&amp;case_id=364528812&amp;case_uid=f3b09bce-35a9-4f53-8d77-e7b26007a6dc&amp;result=1&amp;new=&amp;delo_id=1540005&amp;srv_num=1\" target=\"_blank\">9-5926/2018 ~ М-5633/2018</a> </td>\n",
       "<td align=\"center\">27.08.2018</td>\n",
       "<td> КАТЕГОРИЯ: Иные жилищные споры<br/>ИСТЕЦ(ЗАЯВИТЕЛЬ): Соколова Марина Александровна<br/>ОТВЕТЧИК: Соколов Олег Альбертович</td>\n",
       "<td> Карева Галина Георгиевна</td>\n",
       "<td> Заявление ВОЗВРАЩЕНО заявителю</td>\n",
       "<td>\n",
       "\t\t\t\t\t     \t\t\t\t</td>\n",
       "</tr>\n",
       "<tr valign=\"top\">\n",
       "<td>Петроградский районный суд</td>\n",
       "<td align=\"center\" nowrap=\"\" title=\"Для получения справки по делу, нажмите на номер дела\"><a href=\"http://pgr.spb.sudrf.ru/modules.php?name=sud_delo&amp;name_op=case&amp;case_id=366319850&amp;case_uid=2eb27e32-348b-427a-af11-c6a958233891&amp;result=1&amp;new=&amp;delo_id=1540005&amp;srv_num=1\" target=\"_blank\">9-239/2013 ~ М-5524/2012</a> </td>\n",
       "<td align=\"center\">28.12.2012</td>\n",
       "<td> КАТЕГОРИЯ: прочие (прочие исковые дела)<br/>ИСТЕЦ(ЗАЯВИТЕЛЬ): Соколов Олег Георгиевич<br/>ОТВЕТЧИК: Мишуткина Людмила Андреевна</td>\n",
       "<td> Медведева Елена Викторовна</td>\n",
       "<td> Заявление ВОЗВРАЩЕНО заявителю</td>\n",
       "<td>\n",
       "\t\t\t\t\t     \t\t\t\t</td>\n",
       "</tr>\n",
       "<tr valign=\"top\">\n",
       "<td>Фрунзенский районный суд</td>\n",
       "<td align=\"center\" nowrap=\"\" title=\"Для получения справки по делу, нажмите на номер дела\"><a href=\"http://frn.spb.sudrf.ru/modules.php?name=sud_delo&amp;name_op=case&amp;case_id=372922504&amp;case_uid=4f6975d6-2667-4059-91ca-b4ae699a18ab&amp;result=1&amp;new=&amp;delo_id=1540005&amp;srv_num=1\" target=\"_blank\">М-5494/2011</a> </td>\n",
       "<td align=\"center\">20.10.2011</td>\n",
       "<td> КАТЕГОРИЯ: - из договоров в сфере:<br/>ИСТЕЦ(ЗАЯВИТЕЛЬ): Соколов Олег Вячеславович<br/>ОТВЕТЧИК: ООО \"Дилижанс\"</td>\n",
       "<td> Кудасова Т. А.</td>\n",
       "<td> Заявление ВОЗВРАЩЕНО заявителю</td>\n",
       "<td>\n",
       "\t\t\t\t\t     \t\t\t\t</td>\n",
       "</tr>\n",
       "<tr valign=\"top\">\n",
       "<td>Фрунзенский районный суд</td>\n",
       "<td align=\"center\" nowrap=\"\" title=\"Для получения справки по делу, нажмите на номер дела\"><a href=\"http://frn.spb.sudrf.ru/modules.php?name=sud_delo&amp;name_op=case&amp;case_id=373247575&amp;case_uid=63ae3439-0875-4911-a933-3bfffa37efda&amp;result=1&amp;new=&amp;delo_id=1540005&amp;srv_num=1\" target=\"_blank\">9-3908/2014 ~ М-3593/2014</a> </td>\n",
       "<td align=\"center\">19.06.2014</td>\n",
       "<td> КАТЕГОРИЯ: Споры, связанные с наследованием имущества<br/>ИСТЕЦ(ЗАЯВИТЕЛЬ): Сытова Людмила Алексеевна<br/>ОТВЕТЧИК: Соколов Олег Викторович</td>\n",
       "<td> Яшина И. В.</td>\n",
       "<td> Заявление ВОЗВРАЩЕНО заявителю</td>\n",
       "<td>\n",
       "\t\t\t\t\t     \t\t\t\t</td>\n",
       "</tr>\n",
       "<tr valign=\"top\">\n",
       "<td>Калининский районный суд</td>\n",
       "<td align=\"center\" nowrap=\"\" title=\"Для получения справки по делу, нажмите на номер дела\"><a href=\"http://kln.spb.sudrf.ru/modules.php?name=sud_delo&amp;name_op=case&amp;case_id=374867973&amp;case_uid=26f6a42e-2fae-436a-a84e-350728b4df53&amp;result=1&amp;new=&amp;delo_id=1540005&amp;srv_num=1\" target=\"_blank\">9-276/2012 ~ М-8998/2011</a> </td>\n",
       "<td align=\"center\">22.12.2011</td>\n",
       "<td> КАТЕГОРИЯ: Другие жилищные споры<br/>ИСТЕЦ(ЗАЯВИТЕЛЬ): Соколова Виктория Юрьевна<br/>ОТВЕТЧИК: ГУ ЖАКР, Дзюбак Светлана Николаевна, Паспортная служба ЖЭС № 3 ГУ ЖА, Соколов Олег Георгиевич</td>\n",
       "<td> Ларионова Н.А.</td>\n",
       "<td> Заявление ВОЗВРАЩЕНО заявителю</td>\n",
       "<td>\n",
       "\t\t\t\t\t     \t\t\t\t</td>\n",
       "</tr>\n",
       "<tr valign=\"top\">\n",
       "<td>Калининский районный суд</td>\n",
       "<td align=\"center\" nowrap=\"\" title=\"Для получения справки по делу, нажмите на номер дела\"><a href=\"http://kln.spb.sudrf.ru/modules.php?name=sud_delo&amp;name_op=case&amp;case_id=375662191&amp;case_uid=c5768117-cf0f-4ec8-9db7-4cf640af63ee&amp;result=1&amp;new=&amp;delo_id=1540005&amp;srv_num=1\" target=\"_blank\">9а-2516/2016 ~ М-10764/2016</a> </td>\n",
       "<td align=\"center\">26.12.2016</td>\n",
       "<td> КАТЕГОРИЯ: прочие об оспаривании решения, действий (бездействия) органов военного управления<br/>ИСТЕЦ(ЗАЯВИТЕЛЬ): Соколов Олег Сергеевич<br/>ОТВЕТЧИК: Военный комиссариат Санкт-Петербурга, Отдел военного комиссариата Санкт-Петербурга в Калининском районе, Призывная комиссия МО \"Финляндский округ\"</td>\n",
       "<td> Смирнова О.А.</td>\n",
       "<td> Заявление ВОЗВРАЩЕНО заявителю</td>\n",
       "<td>\n",
       "\t\t\t\t\t     \t\t\t\t</td>\n",
       "</tr>\n",
       "<tr valign=\"top\">\n",
       "<td>Калининский районный суд</td>\n",
       "<td align=\"center\" nowrap=\"\" title=\"Для получения справки по делу, нажмите на номер дела\"><a href=\"http://kln.spb.sudrf.ru/modules.php?name=sud_delo&amp;name_op=case&amp;case_id=375716363&amp;case_uid=8bee0903-d502-463a-b292-56378ea78b62&amp;result=1&amp;new=&amp;delo_id=1540005&amp;srv_num=1\" target=\"_blank\">9-1920/2017 ~ М-6356/2017</a> </td>\n",
       "<td align=\"center\">01.11.2017</td>\n",
       "<td> КАТЕГОРИЯ: Иски о взыскании сумм по договору займа, кредитному договору<br/>ИСТЕЦ(ЗАЯВИТЕЛЬ): Калинкина Елена Анатольевна<br/>ОТВЕТЧИК: Соколов Олег Константинович</td>\n",
       "<td> Пересункина Е.В.</td>\n",
       "<td> Заявление ВОЗВРАЩЕНО заявителю</td>\n",
       "<td>\n",
       "\t\t\t\t\t     \t\t\t\t</td>\n",
       "</tr>\n",
       "<tr valign=\"top\">\n",
       "<td>Выборгский районный суд</td>\n",
       "<td align=\"center\" nowrap=\"\" title=\"Для получения справки по делу, нажмите на номер дела\"><a href=\"http://vbr.spb.sudrf.ru/modules.php?name=sud_delo&amp;name_op=case&amp;case_id=351133769&amp;case_uid=ee409300-09d3-4bcd-89d5-a94b25af3c88&amp;result=1&amp;new=&amp;delo_id=1540005&amp;srv_num=1\" target=\"_blank\">2-905/2010 (2-8064/2009;) ~ Материалы дела</a> </td>\n",
       "<td align=\"center\">26.11.2009</td>\n",
       "<td> КАТЕГОРИЯ: жалобы на действия судебных приставов-исполнителей в порядке ст. 90 закона \"Об исполнительном производстве\"<br/>ИСТЕЦ(ЗАЯВИТЕЛЬ): Соколов Олег Александрович</td>\n",
       "<td>  Лобанчук Ирина Николаевна</td>\n",
       "<td> Иск (заявление, жалоба) ОСТАВЛЕН БЕЗ РАССМОТРЕНИЯ</td>\n",
       "<td>\n",
       "\t\t\t\t\t     \t\t\t\t</td>\n",
       "</tr>\n",
       "<tr valign=\"top\">\n",
       "<td>Дзержинский районный суд</td>\n",
       "<td align=\"center\" nowrap=\"\" title=\"Для получения справки по делу, нажмите на номер дела\"><a href=\"http://dzr.spb.sudrf.ru/modules.php?name=sud_delo&amp;name_op=case&amp;case_id=353509585&amp;case_uid=f4ae72ba-ddf5-46c8-86a0-311032166fe9&amp;result=1&amp;new=&amp;delo_id=1540005&amp;srv_num=1\" target=\"_blank\">2-1578/2012 ~ М-1093/2012</a> </td>\n",
       "<td align=\"center\">17.08.2012</td>\n",
       "<td> КАТЕГОРИЯ: Другие жилищные споры<br/>ИСТЕЦ(ЗАЯВИТЕЛЬ): Соколов Олег Александрович<br/>ОТВЕТЧИК: Орозобаев Вячеслав Анварович, Петрова Марина Николаевна</td>\n",
       "<td> Реутская Ольга Владимировна</td>\n",
       "<td> Иск (заявление, жалоба) ОСТАВЛЕН БЕЗ РАССМОТРЕНИЯ</td>\n",
       "<td>\n",
       "\t\t\t\t\t     \t\t\t\t</td>\n",
       "</tr>\n",
       "<tr valign=\"top\">\n",
       "<td>Калининский районный суд</td>\n",
       "<td align=\"center\" nowrap=\"\" title=\"Для получения справки по делу, нажмите на номер дела\"><a href=\"http://kln.spb.sudrf.ru/modules.php?name=sud_delo&amp;name_op=case&amp;case_id=374872450&amp;case_uid=9aca87da-ceb6-446f-bb37-2ed13cd0987c&amp;result=1&amp;new=&amp;delo_id=1540005&amp;srv_num=1\" target=\"_blank\">2-7632/2011 ~ М-7680/2011</a> </td>\n",
       "<td align=\"center\">01.11.2011</td>\n",
       "<td> КАТЕГОРИЯ: Другие жилищные споры<br/> </td>\n",
       "<td> Ларионова Н.А.</td>\n",
       "<td> Иск (заявление, жалоба) ОСТАВЛЕН БЕЗ РАССМОТРЕНИЯ</td>\n",
       "<td>\n",
       "\t\t\t\t\t     \t\t\t\t</td>\n",
       "</tr>\n",
       "<tr valign=\"top\">\n",
       "<td>Выборгский районный суд</td>\n",
       "<td align=\"center\" nowrap=\"\" title=\"Для получения справки по делу, нажмите на номер дела\"><a href=\"http://vbr.spb.sudrf.ru/modules.php?name=sud_delo&amp;name_op=case&amp;case_id=351381346&amp;case_uid=0f2c11b1-b145-4859-9033-f09cd7927492&amp;result=1&amp;new=&amp;delo_id=1540005&amp;srv_num=1\" target=\"_blank\">2-2268/2011 ~ М-1218/2011</a> </td>\n",
       "<td align=\"center\">28.02.2011</td>\n",
       "<td> КАТЕГОРИЯ: О признании гражданина безвестно отсутствующим или об объявлении гражданина умершим<br/>ИСТЕЦ(ЗАЯВИТЕЛЬ): Соколов Олег Станиславович</td>\n",
       "<td> Яровинский Илья Викторович</td>\n",
       "<td> Иск (заявление, жалоба) УДОВЛЕТВОРЕН</td>\n",
       "<td>\n",
       "\t\t\t\t\t     \t\t\t\t</td>\n",
       "</tr>\n",
       "<tr valign=\"top\">\n",
       "<td>Санкт-Петербургский гарнизонный военный суд</td>\n",
       "<td align=\"center\" nowrap=\"\" title=\"Для получения справки по делу, нажмите на номер дела\"><a href=\"http://gvs.spb.sudrf.ru/modules.php?name=sud_delo&amp;name_op=case&amp;case_id=351508429&amp;case_uid=0e1abe7c-362c-49d2-be43-559bfc3bf437&amp;result=1&amp;new=&amp;delo_id=1540005&amp;srv_num=1\" target=\"_blank\">2-185/2013 ~ М-141/2013</a> </td>\n",
       "<td align=\"center\">29.01.2013</td>\n",
       "<td> КАТЕГОРИЯ: должностных лиц, государственных и муниципальных служащих<br/>ИСТЕЦ(ЗАЯВИТЕЛЬ): Соколов Олег Юрьевич</td>\n",
       "<td> Ефремов Дмитрий Александрович</td>\n",
       "<td> Иск (заявление, жалоба) УДОВЛЕТВОРЕН</td>\n",
       "<td> <a href=\"http://gvs.spb.sudrf.ru/modules.php?name=sud_delo&amp;name_op=doc&amp;srv_num=1&amp;number=256598661&amp;delo_id=1540005&amp;new=&amp;text_number=1\" target=\"_blank\" title=\"Решение\">Текст документа</a>    \t\t\t\t</td>\n",
       "</tr>\n",
       "<tr valign=\"top\">\n",
       "<td>Красносельский районный суд</td>\n",
       "<td align=\"center\" nowrap=\"\" title=\"Для получения справки по делу, нажмите на номер дела\"><a href=\"http://ksl.spb.sudrf.ru/modules.php?name=sud_delo&amp;name_op=case&amp;case_id=358316142&amp;case_uid=5ce5d1f3-c7fd-40fe-95e4-8057ec8093f7&amp;result=1&amp;new=&amp;delo_id=1540005&amp;srv_num=1\" target=\"_blank\">2-4728/2014 ~ М-3566/2014</a> </td>\n",
       "<td align=\"center\">08.07.2014</td>\n",
       "<td> КАТЕГОРИЯ: прочие (прочие исковые дела)<br/><br/>ОТВЕТЧИК: Соколов Олег Геннадьевич</td>\n",
       "<td> Веретин Д.И.</td>\n",
       "<td> Иск (заявление, жалоба) УДОВЛЕТВОРЕН</td>\n",
       "<td>\n",
       "\t\t\t\t\t     \t\t\t\t</td>\n",
       "</tr>\n",
       "</table>\n",
       "</div>\n",
       "<div align=\"left\" id=\"num3\" style=\"padding-top: 0.2em; width:30%; font-size: 11px; color: #555;\">\n",
       "\t\tСтраницы : <b>1</b> | <a href=\"#\" onclick=\"pages(2); return false;\">2</a> | <a href=\"#\" onclick=\"pages(3); return false;\">3</a> <a href=\"#\" onclick=\"pages(2); return false;\" title=\"Следующая страница\">&gt;</a>\n",
       "<a href=\"#\" onclick=\"pages(3); return false;\" title=\"На последнюю страницу списка\">&gt;&gt;</a> </div>\n",
       "</div>"
      ]
     },
     "execution_count": 276,
     "metadata": {},
     "output_type": "execute_result"
    }
   ],
   "source": [
    "b"
   ]
  },
  {
   "cell_type": "code",
   "execution_count": 277,
   "metadata": {},
   "outputs": [
    {
     "data": {
      "text/plain": [
       "<Response [200]>"
      ]
     },
     "execution_count": 277,
     "metadata": {},
     "output_type": "execute_result"
    }
   ],
   "source": [
    "a"
   ]
  },
  {
   "cell_type": "code",
   "execution_count": 429,
   "metadata": {},
   "outputs": [],
   "source": [
    "import json\n",
    "import random\n",
    "from abc import ABC, abstractmethod\n",
    "from time import time\n",
    "\n",
    "from bs4 import BeautifulSoup\n",
    "\n",
    "import requests\n",
    "\n",
    "\n",
    "# Абстрактные классы\n",
    "class ExcelAbc(ABC):\n",
    "    \"\"\"ExcelAbc\n",
    "    Абстрактный класс для\n",
    "    записи и чтения данных из Excel\n",
    "\n",
    "    Arguments:\n",
    "        ABC {abc.ABCMeta} -- вспомогательный класс для создания интерфейсов\n",
    "    \"\"\"\n",
    "    def __init__(self):\n",
    "        \"\"\"Init\n",
    "        Инициализация класса\n",
    "        \"\"\"\n",
    "        super().__init__()\n",
    "\n",
    "    @abstractmethod\n",
    "    def read_file(self, file_path):\n",
    "        \"\"\"Read file\n",
    "        Считывает excel файл и приводит его в нормальный вид\n",
    "        {\n",
    "            'header': [..., {str}, ...],\n",
    "            'data': [\n",
    "                {\n",
    "                    hader_item: value_item,\n",
    "                    {str}: {str},\n",
    "                    ...\n",
    "                },\n",
    "                ...\n",
    "            ]\n",
    "        }\n",
    "\n",
    "        Arguments:\n",
    "            file_path {str} -- путь до файла\n",
    "\n",
    "        Returns:\n",
    "            {dict} -- данные приведенные в нормалный вид\n",
    "        \"\"\"\n",
    "        return {}\n",
    "\n",
    "    @abstractmethod\n",
    "    def write_file(self, file_path, data):\n",
    "        \"\"\"Write file\n",
    "        Принимает данные в нормальном виде\n",
    "        Записывает их в файл\n",
    "\n",
    "        Arguments:\n",
    "            file_path {str} -- путь до файла\n",
    "            data {str} -- данные в нормальном виде\n",
    "\n",
    "        Returns:\n",
    "            {bool} -- статус\n",
    "        \"\"\"\n",
    "        return False\n",
    "\n",
    "\n",
    "# Абстрактный класс для Парсинга\n",
    "class ParserAbc(ABC):\n",
    "    \"\"\"ParserAbc\n",
    "    Абстрактный класс для парсинга данных\n",
    "\n",
    "    Arguments:\n",
    "        ABC {[type]} -- [description]\n",
    "    \"\"\"\n",
    "\n",
    "    def __init__(self, link, params):\n",
    "        # Open user-agent list\n",
    "        with open('user_agents.json', 'r', encoding='utf8') as f:\n",
    "            self.user_agents = json.load(f)\n",
    "        # Add arguments\n",
    "        self.link = link\n",
    "        self.set_params(params)\n",
    "        super().__init__()\n",
    "\n",
    "    def set_params(self, params):\n",
    "        self._params = params\n",
    "\n",
    "    def get_random_user_agent(self):\n",
    "        \"\"\"Get random_user_agent\n",
    "        Получить случайный user-agent\n",
    "\n",
    "        Returns:\n",
    "            {str} -- user-agent\n",
    "        \"\"\"\n",
    "        return random.choice(self.user_agents)\n",
    "\n",
    "    def make_query(self, *, params={}, verify=False):\n",
    "        \"\"\"Make query\n",
    "        Делаем запрос к сайту\n",
    "\n",
    "        Keyword Arguments:\n",
    "            params {dict} -- get параметры (default: {{}})\n",
    "            verify {bool} -- аргумент в requests (default: {False})\n",
    "\n",
    "        Returns:\n",
    "            {requests.models.Response} -- объект с результатом запроса\n",
    "        \"\"\"\n",
    "        return requests.get(\n",
    "            self.link,\n",
    "            headers={'User-Agent': self.get_random_user_agent()},\n",
    "            params=params,\n",
    "            verify=verify\n",
    "        )\n",
    "\n",
    "    def verify_response(self, res):\n",
    "        \"\"\"Verify response\n",
    "        Проверяет резальтат на валидность\n",
    "\n",
    "        Arguments:\n",
    "            {requests.models.Response} -- объект с результатом запроса\n",
    "\n",
    "        Returns:\n",
    "            {bool} -- Статус\n",
    "        \"\"\"\n",
    "        return True if res.status_code == 200 else False\n",
    "\n",
    "    @abstractmethod\n",
    "    def normalize_html(self, html_data):\n",
    "        \"\"\"Normalize html\n",
    "        На вход принимает html, арсит с него искомые данные\n",
    "        и приводит их к нормальному виду\n",
    "        {\n",
    "            'header': [..., {str}, ...],\n",
    "            'data': [\n",
    "                {\n",
    "                    hader_item: value_item,\n",
    "                    {str}: {str},\n",
    "                    ...\n",
    "                },\n",
    "                ...\n",
    "            ]\n",
    "        }\n",
    "\n",
    "        Arguments:\n",
    "            html_data {requests.models.Response} -- Res\n",
    "\n",
    "        Returns:\n",
    "            {dict} -- словарь с данными\n",
    "        \"\"\"\n",
    "        return {}\n",
    "\n",
    "    def pipeline_one(self, params):\n",
    "        # Конвейер\n",
    "        if self.verify_response(curr:=self.make_query(params={**params, **self._params})):  # noqa\n",
    "            return self.normalize_html(curr)\n",
    "        return None\n",
    "\n",
    "\n",
    "# Классы для парсинга\n",
    "class Fss(ParserAbc):\n",
    "    def normalize_html(self, html_data):\n",
    "        return {}\n",
    "\n",
    "\n",
    "class Sud(ParserAbc):\n",
    "    def normalize_html(self, html_data):\n",
    "        self.data = {'header': [], 'data': []}\n",
    "        soup = BeautifulSoup(html_data.content)\n",
    "        if not soup.table:\n",
    "            return {}\n",
    "        for row_i, row in enumerate(soup.table.find_all('tr')):\n",
    "            if row_i == 0:\n",
    "                self.data['header'] = [x.text for x in row.find_all('td')]\n",
    "            else:\n",
    "                _data = {}\n",
    "                for col_i, column in enumerate(row.find_all('td')):\n",
    "                    _data[self.data['header'][col_i]] = column.text\n",
    "                self.data['data'].append(_data)\n",
    "        return self.data\n",
    "\n",
    "# Классы для работы с Excel\n",
    "class ExcelFss(ExcelAbc):\n",
    "    pass\n"
   ]
  },
  {
   "cell_type": "code",
   "execution_count": 328,
   "metadata": {},
   "outputs": [],
   "source": [
    "params={\n",
    "    'id': '300',\n",
    "    'act': 'go_sp_search',\n",
    "    'searchtype': 'sp',\n",
    "}\n",
    "sud = Sud('https://sudrf.ru/index.php', params)\n"
   ]
  },
  {
   "cell_type": "code",
   "execution_count": 329,
   "metadata": {},
   "outputs": [
    {
     "name": "stderr",
     "output_type": "stream",
     "text": [
      "/Users/konstantinnabatcikov/Documents/AutoDrive/Notebooks/venv/lib/python3.8/site-packages/urllib3/connectionpool.py:997: InsecureRequestWarning: Unverified HTTPS request is being made. Adding certificate verification is strongly advised. See: https://urllib3.readthedocs.io/en/latest/advanced-usage.html#ssl-warnings\n",
      "  warnings.warn(\n"
     ]
    },
    {
     "data": {
      "text/plain": [
       "{'header': ['Суд',\n",
       "  'Номер дела',\n",
       "  'Дата поступления',\n",
       "  'Информация по делу',\n",
       "  'Судья',\n",
       "  'Результат слушания',\n",
       "  'Судебныеакты'],\n",
       " 'data': [{'Суд': 'Петроградский районный суд'},\n",
       "  {'Номер дела': '2-2951/2013 ~ М-2520/2013 '},\n",
       "  {'Дата поступления': '19.06.2013'},\n",
       "  {'Информация по делу': '\\xa0КАТЕГОРИЯ: - к средствам массовой информацииИСТЕЦ(ЗАЯВИТЕЛЬ): Соколов Олег ВалерьевичОТВЕТЧИК: ЗАО \" Комсомольская правда в СПБ \"'},\n",
       "  {'Судья': '\\xa0Тарасова Ольга Станиславовна'},\n",
       "  {'Результат слушания': '\\xa0Иск (заявление, жалоба) УДОВЛЕТВОРЕН ЧАСТИЧНО'},\n",
       "  {'Судебныеакты': '\\r\\n\\t\\t\\t\\t\\t\\xa0\\xa0\\xa0\\xa0\\xa0\\t\\t\\t\\t'},\n",
       "  {'Суд': 'Октябрьский районный суд'},\n",
       "  {'Номер дела': '2-114/2019 (2-3763/2018;) ~ М-3728/2018 '},\n",
       "  {'Дата поступления': '17.07.2018'},\n",
       "  {'Информация по делу': '\\xa0КАТЕГОРИЯ: прочие (прочие исковые дела)ИСТЕЦ(ЗАЯВИТЕЛЬ): Понасенков Евгений НиколаевичОТВЕТЧИК: Соколов Олег Валерьевич'},\n",
       "  {'Судья': '\\xa0Пазюченко Ирина Жоржовна'},\n",
       "  {'Результат слушания': '\\xa0ОТКАЗАНО в удовлетворении иска (заявлении, жалобы)'},\n",
       "  {'Судебныеакты': '\\r\\n\\t\\t\\t\\t\\t\\xa0\\xa0\\xa0\\xa0\\xa0\\t\\t\\t\\t'}]}"
      ]
     },
     "execution_count": 329,
     "metadata": {},
     "output_type": "execute_result"
    }
   ],
   "source": [
    "sud.pipeline_one({'f_name': 'Соколов Олег Валерьевич', 'page': '1', 'court_subj': '78',})"
   ]
  },
  {
   "cell_type": "code",
   "execution_count": 334,
   "metadata": {},
   "outputs": [],
   "source": [
    "data = pd.read_excel('test.xlsx')\n"
   ]
  },
  {
   "cell_type": "code",
   "execution_count": 339,
   "metadata": {},
   "outputs": [
    {
     "data": {
      "text/plain": [
       "0   1997-01-17\n",
       "1   1956-02-13\n",
       "2   1965-06-14\n",
       "Name: Дата рождения, dtype: datetime64[ns]"
      ]
     },
     "execution_count": 339,
     "metadata": {},
     "output_type": "execute_result"
    }
   ],
   "source": [
    "data['Фамилия']\n",
    "data['Имя']\n",
    "data['Отчество']\n",
    "data['Дата рождения']"
   ]
  },
  {
   "cell_type": "code",
   "execution_count": 467,
   "metadata": {},
   "outputs": [],
   "source": [
    "class ExcelSud(ExcelAbc):\n",
    "    data = {'header': [], 'data': []}\n",
    "    def read_file(self, file_path):\n",
    "        self.data = {'header': [], 'data': []}\n",
    "        self.data['header'] = 'f_name'\n",
    "        data = pd.read_excel(file_path)\n",
    "        for i in range(len(data['Фамилия'])):\n",
    "            self.data['data'].append({\n",
    "                'f_name': f\"{data['Фамилия'][i]} {data['Имя'][i]} {data['Отчество'][i]}\"\n",
    "            })\n",
    "        return self.data\n",
    "    \n",
    "    def write_file(self, file_path, data):\n",
    "        df1 = pd.DataFrame(\n",
    "            {\n",
    "                header: [x[header] for x in data['data']]\n",
    "                for i, header in enumerate(data['header'])\n",
    "            }\n",
    "        )\n",
    "        with pd.ExcelWriter(file_path) as writer:  \n",
    "            df1.to_excel(writer, sheet_name='1')\n",
    "        "
   ]
  },
  {
   "cell_type": "code",
   "execution_count": null,
   "metadata": {},
   "outputs": [],
   "source": []
  },
  {
   "cell_type": "code",
   "execution_count": 485,
   "metadata": {},
   "outputs": [],
   "source": [
    "def analize(file_path):\n",
    "    # для работы с excel\n",
    "    ex = ExcelSud()\n",
    "    # default get параметры\n",
    "    params={\n",
    "        'id': '300',\n",
    "        'act': 'go_sp_search',\n",
    "        'searchtype': 'sp',\n",
    "        'page': '1',\n",
    "        'court_subj': '77',\n",
    "    }\n",
    "    # для работы с базой данных\n",
    "    sud = Sud('https://sudrf.ru/index.php', params)\n",
    "    for x in (curr:=ex.read_file(file_path))['data']:\n",
    "        curr_table = sud.pipeline_one(x)\n",
    "        if curr_table:\n",
    "            ex.write_file(\n",
    "                'data/'+str(time()).split('.')[0]+\".xls\",\n",
    "                curr_table\n",
    "            )\n"
   ]
  },
  {
   "cell_type": "code",
   "execution_count": 486,
   "metadata": {},
   "outputs": [
    {
     "name": "stderr",
     "output_type": "stream",
     "text": [
      "/Users/konstantinnabatcikov/Documents/AutoDrive/Notebooks/venv/lib/python3.8/site-packages/urllib3/connectionpool.py:997: InsecureRequestWarning: Unverified HTTPS request is being made. Adding certificate verification is strongly advised. See: https://urllib3.readthedocs.io/en/latest/advanced-usage.html#ssl-warnings\n",
      "  warnings.warn(\n",
      "/Users/konstantinnabatcikov/Documents/AutoDrive/Notebooks/venv/lib/python3.8/site-packages/urllib3/connectionpool.py:997: InsecureRequestWarning: Unverified HTTPS request is being made. Adding certificate verification is strongly advised. See: https://urllib3.readthedocs.io/en/latest/advanced-usage.html#ssl-warnings\n",
      "  warnings.warn(\n",
      "/Users/konstantinnabatcikov/Documents/AutoDrive/Notebooks/venv/lib/python3.8/site-packages/urllib3/connectionpool.py:997: InsecureRequestWarning: Unverified HTTPS request is being made. Adding certificate verification is strongly advised. See: https://urllib3.readthedocs.io/en/latest/advanced-usage.html#ssl-warnings\n",
      "  warnings.warn(\n"
     ]
    }
   ],
   "source": [
    "analize('test.xlsx')"
   ]
  },
  {
   "cell_type": "code",
   "execution_count": 401,
   "metadata": {},
   "outputs": [],
   "source": [
    "a = pd.DataFrame(['a', 'b'], ['c', 'd'])"
   ]
  },
  {
   "cell_type": "code",
   "execution_count": 404,
   "metadata": {},
   "outputs": [
    {
     "data": {
      "text/html": [
       "<div>\n",
       "<style scoped>\n",
       "    .dataframe tbody tr th:only-of-type {\n",
       "        vertical-align: middle;\n",
       "    }\n",
       "\n",
       "    .dataframe tbody tr th {\n",
       "        vertical-align: top;\n",
       "    }\n",
       "\n",
       "    .dataframe thead th {\n",
       "        text-align: right;\n",
       "    }\n",
       "</style>\n",
       "<table border=\"1\" class=\"dataframe\">\n",
       "  <thead>\n",
       "    <tr style=\"text-align: right;\">\n",
       "      <th></th>\n",
       "      <th>col_1</th>\n",
       "      <th>col_2</th>\n",
       "    </tr>\n",
       "  </thead>\n",
       "  <tbody>\n",
       "    <tr>\n",
       "      <th>0</th>\n",
       "      <td>a</td>\n",
       "      <td>2</td>\n",
       "    </tr>\n",
       "    <tr>\n",
       "      <th>1</th>\n",
       "      <td>b</td>\n",
       "      <td>3</td>\n",
       "    </tr>\n",
       "    <tr>\n",
       "      <th>2</th>\n",
       "      <td>c</td>\n",
       "      <td>5</td>\n",
       "    </tr>\n",
       "  </tbody>\n",
       "</table>\n",
       "</div>"
      ],
      "text/plain": [
       "  col_1 col_2\n",
       "0     a     2\n",
       "1     b     3\n",
       "2     c     5"
      ]
     },
     "execution_count": 404,
     "metadata": {},
     "output_type": "execute_result"
    }
   ],
   "source": [
    "pd.DataFrame({'col_1': ['a', 'b', 'c'], 'col_2': ['2', '3', '5']})"
   ]
  },
  {
   "cell_type": "code",
   "execution_count": 466,
   "metadata": {},
   "outputs": [],
   "source": []
  },
  {
   "cell_type": "code",
   "execution_count": 439,
   "metadata": {},
   "outputs": [],
   "source": [
    "curr_table = {'header': ['Суд', 'Номер дела', 'Дата поступления', 'Информация по делу', 'Судья', 'Результат слушания', 'Судебныеакты'], 'data': [{'Суд': 'Петроградский районный суд', 'Номер дела': '2-2951/2013 ~ М-2520/2013 ', 'Дата поступления': '19.06.2013', 'Информация по делу': '\\xa0КАТЕГОРИЯ: - к средствам массовой информацииИСТЕЦ(ЗАЯВИТЕЛЬ): Соколов Олег ВалерьевичОТВЕТЧИК: ЗАО \" Комсомольская правда в СПБ \"', 'Судья': '\\xa0Тарасова Ольга Станиславовна', 'Результат слушания': '\\xa0Иск (заявление, жалоба) УДОВЛЕТВОРЕН ЧАСТИЧНО', 'Судебныеакты': '\\r\\n\\t\\t\\t\\t\\t\\xa0\\xa0\\xa0\\xa0\\xa0\\t\\t\\t\\t'}, {'Суд': 'Октябрьский районный суд', 'Номер дела': '2-114/2019 (2-3763/2018;) ~ М-3728/2018 ', 'Дата поступления': '17.07.2018', 'Информация по делу': '\\xa0КАТЕГОРИЯ: прочие (прочие исковые дела)ИСТЕЦ(ЗАЯВИТЕЛЬ): Понасенков Евгений НиколаевичОТВЕТЧИК: Соколов Олег Валерьевич', 'Судья': '\\xa0Пазюченко Ирина Жоржовна', 'Результат слушания': '\\xa0ОТКАЗАНО в удовлетворении иска (заявлении, жалобы)', 'Судебныеакты': '\\r\\n\\t\\t\\t\\t\\t\\xa0\\xa0\\xa0\\xa0\\xa0\\t\\t\\t\\t'}]}\n"
   ]
  },
  {
   "cell_type": "code",
   "execution_count": 443,
   "metadata": {},
   "outputs": [
    {
     "name": "stdout",
     "output_type": "stream",
     "text": [
      "Суд Петроградский районный суд\n",
      "Номер дела 2-2951/2013 ~ М-2520/2013 \n",
      "Дата поступления 19.06.2013\n",
      "Информация по делу  КАТЕГОРИЯ: - к средствам массовой информацииИСТЕЦ(ЗАЯВИТЕЛЬ): Соколов Олег ВалерьевичОТВЕТЧИК: ЗАО \" Комсомольская правда в СПБ \"\n",
      "Судья  Тарасова Ольга Станиславовна\n",
      "Результат слушания  Иск (заявление, жалоба) УДОВЛЕТВОРЕН ЧАСТИЧНО\n",
      "Судебныеакты \r\n",
      "\t\t\t\t\t     \t\t\t\t\n",
      "Суд Октябрьский районный суд\n",
      "Номер дела 2-114/2019 (2-3763/2018;) ~ М-3728/2018 \n",
      "Дата поступления 17.07.2018\n",
      "Информация по делу  КАТЕГОРИЯ: прочие (прочие исковые дела)ИСТЕЦ(ЗАЯВИТЕЛЬ): Понасенков Евгений НиколаевичОТВЕТЧИК: Соколов Олег Валерьевич\n",
      "Судья  Пазюченко Ирина Жоржовна\n",
      "Результат слушания  ОТКАЗАНО в удовлетворении иска (заявлении, жалобы)\n",
      "Судебныеакты \r\n",
      "\t\t\t\t\t     \t\t\t\t\n"
     ]
    }
   ],
   "source": [
    "for x in curr_table['data']:\n",
    "    for k in x:\n",
    "        print(k, x[k])\n"
   ]
  },
  {
   "cell_type": "code",
   "execution_count": 455,
   "metadata": {},
   "outputs": [
    {
     "data": {
      "text/plain": [
       "<td>\n",
       "\t\t\t\t\t     \t\t\t\t</td>"
      ]
     },
     "execution_count": 455,
     "metadata": {},
     "output_type": "execute_result"
    }
   ],
   "source": []
  },
  {
   "cell_type": "code",
   "execution_count": 456,
   "metadata": {},
   "outputs": [
    {
     "data": {
      "text/plain": [
       "<tr valign=\"top\">\n",
       "<td>Красносельский районный суд</td>\n",
       "<td align=\"center\" nowrap=\"\" title=\"Для получения справки по делу, нажмите на номер дела\"><a href=\"http://ksl.spb.sudrf.ru/modules.php?name=sud_delo&amp;name_op=case&amp;case_id=358316142&amp;case_uid=5ce5d1f3-c7fd-40fe-95e4-8057ec8093f7&amp;result=1&amp;new=&amp;delo_id=1540005&amp;srv_num=1\" target=\"_blank\">2-4728/2014 ~ М-3566/2014</a> </td>\n",
       "<td align=\"center\">08.07.2014</td>\n",
       "<td> КАТЕГОРИЯ: прочие (прочие исковые дела)<br/><br/>ОТВЕТЧИК: Соколов Олег Геннадьевич</td>\n",
       "<td> Веретин Д.И.</td>\n",
       "<td> Иск (заявление, жалоба) УДОВЛЕТВОРЕН</td>\n",
       "<td>\n",
       "\t\t\t\t\t     \t\t\t\t</td>\n",
       "</tr>"
      ]
     },
     "execution_count": 456,
     "metadata": {},
     "output_type": "execute_result"
    }
   ],
   "source": [
    "row"
   ]
  },
  {
   "cell_type": "code",
   "execution_count": 459,
   "metadata": {},
   "outputs": [
    {
     "data": {
      "text/plain": [
       "<div align=\"center\" style=\"padding:40px;\"><b>По вашему запросу ничего не найдено.<br/>Попробуйте уточнить условия поиска.</b></div>"
      ]
     },
     "execution_count": 459,
     "metadata": {},
     "output_type": "execute_result"
    }
   ],
   "source": [
    "b"
   ]
  },
  {
   "cell_type": "code",
   "execution_count": 463,
   "metadata": {},
   "outputs": [
    {
     "data": {
      "text/plain": [
       "<b>По вашему запросу ничего не найдено.<br/>Попробуйте уточнить условия поиска.</b>"
      ]
     },
     "execution_count": 463,
     "metadata": {},
     "output_type": "execute_result"
    }
   ],
   "source": [
    "b.find('b')"
   ]
  },
  {
   "cell_type": "code",
   "execution_count": 471,
   "metadata": {},
   "outputs": [
    {
     "ename": "AttributeError",
     "evalue": "'builtin_function_or_method' object has no attribute 'time'",
     "output_type": "error",
     "traceback": [
      "\u001b[0;31m---------------------------------------------------------------------------\u001b[0m",
      "\u001b[0;31mAttributeError\u001b[0m                            Traceback (most recent call last)",
      "\u001b[0;32m<ipython-input-471-8ac298c42bce>\u001b[0m in \u001b[0;36m<module>\u001b[0;34m\u001b[0m\n\u001b[0;32m----> 1\u001b[0;31m \u001b[0;34m'data/'\u001b[0m\u001b[0;34m+\u001b[0m\u001b[0mstr\u001b[0m\u001b[0;34m(\u001b[0m\u001b[0mtime\u001b[0m\u001b[0;34m.\u001b[0m\u001b[0mtime\u001b[0m\u001b[0;34m(\u001b[0m\u001b[0;34m)\u001b[0m\u001b[0;34m)\u001b[0m\u001b[0;34m.\u001b[0m\u001b[0msplit\u001b[0m\u001b[0;34m(\u001b[0m\u001b[0;34m'.'\u001b[0m\u001b[0;34m)\u001b[0m\u001b[0;34m[\u001b[0m\u001b[0;36m0\u001b[0m\u001b[0;34m]\u001b[0m\u001b[0;34m\u001b[0m\u001b[0;34m\u001b[0m\u001b[0m\n\u001b[0m",
      "\u001b[0;31mAttributeError\u001b[0m: 'builtin_function_or_method' object has no attribute 'time'"
     ]
    }
   ],
   "source": [
    "'data/'+str(time.time()).split('.')[0]"
   ]
  },
  {
   "cell_type": "code",
   "execution_count": 481,
   "metadata": {},
   "outputs": [
    {
     "data": {
      "text/plain": [
       "1582720847.6248808"
      ]
     },
     "execution_count": 481,
     "metadata": {},
     "output_type": "execute_result"
    }
   ],
   "source": [
    "time()"
   ]
  },
  {
   "cell_type": "code",
   "execution_count": 484,
   "metadata": {},
   "outputs": [
    {
     "data": {
      "text/plain": [
       "{'header': ['Суд',\n",
       "  'Номер дела',\n",
       "  'Дата поступления',\n",
       "  'Информация по делу',\n",
       "  'Судья',\n",
       "  'Результат слушания',\n",
       "  'Судебныеакты'],\n",
       " 'data': [{'Суд': 'Петроградский районный суд',\n",
       "   'Номер дела': '2-2951/2013 ~ М-2520/2013 ',\n",
       "   'Дата поступления': '19.06.2013',\n",
       "   'Информация по делу': '\\xa0КАТЕГОРИЯ: - к средствам массовой информацииИСТЕЦ(ЗАЯВИТЕЛЬ): Соколов Олег ВалерьевичОТВЕТЧИК: ЗАО \" Комсомольская правда в СПБ \"',\n",
       "   'Судья': '\\xa0Тарасова Ольга Станиславовна',\n",
       "   'Результат слушания': '\\xa0Иск (заявление, жалоба) УДОВЛЕТВОРЕН ЧАСТИЧНО',\n",
       "   'Судебныеакты': '\\r\\n\\t\\t\\t\\t\\t\\xa0\\xa0\\xa0\\xa0\\xa0\\t\\t\\t\\t'},\n",
       "  {'Суд': 'Октябрьский районный суд',\n",
       "   'Номер дела': '2-114/2019 (2-3763/2018;) ~ М-3728/2018 ',\n",
       "   'Дата поступления': '17.07.2018',\n",
       "   'Информация по делу': '\\xa0КАТЕГОРИЯ: прочие (прочие исковые дела)ИСТЕЦ(ЗАЯВИТЕЛЬ): Понасенков Евгений НиколаевичОТВЕТЧИК: Соколов Олег Валерьевич',\n",
       "   'Судья': '\\xa0Пазюченко Ирина Жоржовна',\n",
       "   'Результат слушания': '\\xa0ОТКАЗАНО в удовлетворении иска (заявлении, жалобы)',\n",
       "   'Судебныеакты': '\\r\\n\\t\\t\\t\\t\\t\\xa0\\xa0\\xa0\\xa0\\xa0\\t\\t\\t\\t'}]}"
      ]
     },
     "execution_count": 484,
     "metadata": {},
     "output_type": "execute_result"
    }
   ],
   "source": [
    "curr_table"
   ]
  },
  {
   "cell_type": "code",
   "execution_count": null,
   "metadata": {},
   "outputs": [],
   "source": []
  }
 ],
 "metadata": {
  "kernelspec": {
   "display_name": "Python 3",
   "language": "python",
   "name": "python3"
  },
  "language_info": {
   "codemirror_mode": {
    "name": "ipython",
    "version": 3
   },
   "file_extension": ".py",
   "mimetype": "text/x-python",
   "name": "python",
   "nbconvert_exporter": "python",
   "pygments_lexer": "ipython3",
   "version": "3.8.0"
  }
 },
 "nbformat": 4,
 "nbformat_minor": 2
}
